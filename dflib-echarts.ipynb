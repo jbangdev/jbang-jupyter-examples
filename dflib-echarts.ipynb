{
 "cells": [
  {
   "cell_type": "markdown",
   "metadata": {},
   "source": [
    "# DFLib with ECharts example\n",
    "\n",
    "Start by adding the dependencies using JBang `//DEPS` directive."
   ]
  },
  {
   "cell_type": "code",
   "execution_count": null,
   "metadata": {
    "vscode": {
     "languageId": "java"
    }
   },
   "outputs": [],
   "source": [
    "//DEPS org.dflib:dflib-jupyter:2.0.0-M4\n"
   ]
  },
  {
   "cell_type": "markdown",
   "metadata": {
    "vscode": {
     "languageId": "java"
    }
   },
   "source": [
    "Create a DataFrame and plot it with ECharts."
   ]
  },
  {
   "cell_type": "code",
   "execution_count": null,
   "metadata": {
    "vscode": {
     "languageId": "java"
    }
   },
   "outputs": [],
   "source": [
    "import org.dflib.*;\n",
    "\n",
    "DataFrame df = DataFrame.foldByRow(\"name\", \"salary\").of(\n",
    "                \"J. Cosin\", 120000,\n",
    "                \"J. Walewski\", 80000,\n",
    "                \"J. O'Hara\", 95000)\n",
    "       // .sort(Extractor.$col(\"salary\").desc()\n",
    "       ;\n",
    "\n",
    "df;"
   ]
  },
  {
   "cell_type": "code",
   "execution_count": null,
   "metadata": {
    "vscode": {
     "languageId": "java"
    }
   },
   "outputs": [],
   "source": [
    "import org.dflib.echarts.*;\n",
    "\n",
    "ECharts\n",
    "        .chart()\n",
    "        .xAxis(\"name\")\n",
    "        .series(SeriesOpts.ofBar(), \"salary\")\n",
    "        .plot(df);\n"
   ]
  }
 ],
 "metadata": {
  "kernelspec": {
   "display_name": "java (Experimental JBang/j!)",
   "language": "java",
   "name": "jbang-jbang"
  },
  "language_info": {
   "codemirror_mode": "java",
   "file_extension": ".jshell",
   "mimetype": "text/x-java-source",
   "name": "Java",
   "pygments_lexer": "java",
   "version": "19.0.2+7-FR"
  }
 },
 "nbformat": 4,
 "nbformat_minor": 2
}
