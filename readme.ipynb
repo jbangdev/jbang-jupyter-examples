{
 "cells": [
  {
   "cell_type": "markdown",
   "metadata": {},
   "source": [
    "# Jupyter JBang/Java Examples\n",
    "\n",
    "Samples of various notebooks using different Jupyter Java based kernels.\n",
    "\n",
    "> **⚠️ Note:** The JBang kernel is still under heavy development. Not all features are fully stable or working yet—expect some rough edges!\n"
   ]
  },
  {
   "cell_type": "markdown",
   "metadata": {},
   "source": [
    "## Getting Started\n",
    "\n",
    "### Online Access\n",
    "Open online using Binder:\n",
    "\n",
    "[![Binder](https://mybinder.org/badge_logo.svg)](https://mybinder.org/v2/gh/jupyter-java/jupyter-java-binder/jbang?urlpath=git-pull%3Frepo%3Dhttps%253A%252F%252Fgithub.com%252Fjupyter-java%252Fjupyter-java-examples%26urlpath%3Dlab%252Ftree%252Fjbang%252F%26branch%3Djbang%26targetPath%3Djbang)\n",
    "\n",
    "### Local Installation\n",
    "Use the following command to install the kernel locally for use in Jupyter Notebook, VSCode, IntelliJ, etc.:\n",
    "\n",
    "```bash\n",
    "jbang install-kernel@jbangdev --java 25 jbang\n",
    "```\n"
   ]
  },
  {
   "cell_type": "markdown",
   "metadata": {},
   "source": [
    "## Available Notebooks\n",
    "\n",
    "This repository contains several example notebooks demonstrating different aspects of Java development in Jupyter:\n",
    "\n",
    "### Core Examples\n",
    "- **[basics.ipynb](basics.ipynb)** - Basic JBang examples including dependency management, JavaFaker, and markdown display\n",
    "\n",
    "### Data Processing & Visualization\n",
    "- **[dflib-echarts.ipynb](dflib-echarts.ipynb)** - DataFrame manipulation with DFLib and interactive ECharts visualization\n",
    "\n",
    "### Database Integration\n",
    "- **[jakarta-data.ipynb](jakarta-data.ipynb)** - Jakarta Data API examples with Hibernate ORM and H2 database\n",
    "- **[jdbc.ipynb](jdbc.ipynb)** - Database connectivity examples using SQLite with JDBC\n",
    "\n",
    "### AI/ML Integration\n",
    "- **[langchain4j.ipynb](langchain4j.ipynb)** - AI/LLM integration examples using LangChain4j with OpenAI\n"
   ]
  },
  {
   "cell_type": "markdown",
   "metadata": {},
   "source": [
    "## Quick Start Example\n",
    "\n",
    "Here's a simple example to get you started with JBang in Jupyter:\n"
   ]
  },
  {
   "cell_type": "code",
   "execution_count": null,
   "metadata": {
    "vscode": {
     "languageId": "java"
    }
   },
   "outputs": [],
   "source": [
    "// Simple Hello World example\n",
    "System.out.println(\"Hello from Jupyter Java!\");\n",
    "\n",
    "// You can also use JBang dependencies\n",
    "// //DEPS org.apache.commons:commons-lang3:3.12.0\n",
    "// import org.apache.commons.lang3.StringUtils;\n",
    "// System.out.println(StringUtils.capitalize(\"hello world\"));\n"
   ]
  },
  {
   "cell_type": "markdown",
   "metadata": {},
   "source": [
    "## Contributing\n",
    "\n",
    "Feel free to explore the notebooks and experiment with the examples. Each notebook is self-contained and includes detailed explanations of the concepts being demonstrated.\n",
    "\n",
    "This notebook is converted to `readme.md` using `uvx --from notebook jupyter nbconvert --to markdown readme.ipynb`\n",
    "\n",
    "For more information about JBang, visit: https://jbang.dev/\n",
    "\n",
    "For Jupyter Java kernel usage, visit: https://github.com/jupyter-java\n",
    "\n"
   ]
  }
 ],
 "metadata": {
  "kernelspec": {
   "display_name": "Python 3",
   "language": "python",
   "name": "python3"
  },
  "language_info": {
   "name": "python",
   "version": "3.13.5"
  }
 },
 "nbformat": 4,
 "nbformat_minor": 2
}
