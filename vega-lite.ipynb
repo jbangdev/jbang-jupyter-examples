{
 "cells": [
  {
   "cell_type": "markdown",
   "metadata": {},
   "source": [
    "# Vega Lite\n",
    "\n",
    "\n",
    "Using smile-plot/vega that can generate Vega-Lite json you can return the json string with the right mime type to have it rendered."
   ]
  },
  {
   "cell_type": "code",
   "execution_count": null,
   "metadata": {
    "vscode": {
     "languageId": "java"
    }
   },
   "outputs": [
    {
     "name": "stdout",
     "output_type": "stream",
     "text": [
      "Adding to classpath: /Users/manderse/.m2/repository/com/github/haifengl/smile-plot/4.3.0/smile-plot-4.3.0.jar:/Users/manderse/.m2/repository/com/github/haifengl/smile-base/4.3.0/smile-base-4.3.0.jar:/Users/manderse/.m2/repository/org/bytedeco/javacpp/1.5.11/javacpp-1.5.11-linux-x86_64.jar:/Users/manderse/.m2/repository/org/bytedeco/javacpp/1.5.11/javacpp-1.5.11-windows-x86_64.jar:/Users/manderse/.m2/repository/org/bytedeco/javacpp/1.5.11/javacpp-1.5.11-macosx-x86_64.jar:/Users/manderse/.m2/repository/org/bytedeco/javacpp/1.5.11/javacpp-1.5.11-macosx-arm64.jar:/Users/manderse/.m2/repository/org/bytedeco/openblas/0.3.28-1.5.11/openblas-0.3.28-1.5.11-linux-x86_64.jar:/Users/manderse/.m2/repository/org/bytedeco/javacpp/1.5.11/javacpp-1.5.11.jar:/Users/manderse/.m2/repository/org/bytedeco/openblas/0.3.28-1.5.11/openblas-0.3.28-1.5.11-windows-x86_64.jar:/Users/manderse/.m2/repository/org/bytedeco/openblas/0.3.28-1.5.11/openblas-0.3.28-1.5.11-macosx-x86_64.jar:/Users/manderse/.m2/repository/org/bytedeco/openblas/0.3.28-1.5.11/openblas-0.3.28-1.5.11-macosx-arm64.jar:/Users/manderse/.m2/repository/org/bytedeco/arpack-ng/3.9.1-1.5.11/arpack-ng-3.9.1-1.5.11.jar:/Users/manderse/.m2/repository/org/bytedeco/openblas/0.3.28-1.5.11/openblas-0.3.28-1.5.11.jar:/Users/manderse/.m2/repository/org/bytedeco/arpack-ng/3.9.1-1.5.11/arpack-ng-3.9.1-1.5.11-linux-x86_64.jar:/Users/manderse/.m2/repository/org/bytedeco/arpack-ng/3.9.1-1.5.11/arpack-ng-3.9.1-1.5.11-windows-x86_64.jar:/Users/manderse/.m2/repository/org/bytedeco/arpack-ng/3.9.1-1.5.11/arpack-ng-3.9.1-1.5.11-macosx-x86_64.jar:/Users/manderse/.m2/repository/com/epam/parso/2.0.14/parso-2.0.14.jar:/Users/manderse/.m2/repository/org/apache/commons/commons-csv/1.13.0/commons-csv-1.13.0.jar:/Users/manderse/.m2/repository/commons-io/commons-io/2.18.0/commons-io-2.18.0.jar:/Users/manderse/.m2/repository/commons-codec/commons-codec/1.17.2/commons-codec-1.17.2.jar:/Users/manderse/.m2/repository/org/duckdb/duckdb_jdbc/1.2.0/duckdb_jdbc-1.2.0.jar:/Users/manderse/.m2/repository/org/slf4j/slf4j-api/2.0.17/slf4j-api-2.0.17.jar:/Users/manderse/.m2/repository/com/fasterxml/jackson/dataformat/jackson-dataformat-xml/2.18.3/jackson-dataformat-xml-2.18.3.jar:/Users/manderse/.m2/repository/com/fasterxml/jackson/core/jackson-core/2.18.3/jackson-core-2.18.3.jar:/Users/manderse/.m2/repository/com/fasterxml/jackson/core/jackson-annotations/2.18.3/jackson-annotations-2.18.3.jar:/Users/manderse/.m2/repository/com/fasterxml/jackson/core/jackson-databind/2.18.3/jackson-databind-2.18.3.jar:/Users/manderse/.m2/repository/org/codehaus/woodstox/stax2-api/4.2.2/stax2-api-4.2.2.jar:/Users/manderse/.m2/repository/com/fasterxml/woodstox/woodstox-core/7.0.0/woodstox-core-7.0.0.jar:/Users/manderse/.m2/repository/org/swinglabs/swingx/1.6.1/swingx-1.6.1.jar:/Users/manderse/.m2/repository/com/jhlabs/filters/2.0.235/filters-2.0.235.jar:/Users/manderse/.m2/repository/org/swinglabs/swing-worker/1.1/swing-worker-1.1.jar\n"
     ]
    }
   ],
   "source": [
    "//DEPS com.github.haifengl:smile-plot:4.3.0\n",
    "// fyi: smile is GPL with no classpath exception.\n",
    "\n",
    "import java.lang.Math.*;\n",
    "//import smile.*;\n",
    "//import smile.json.*;\n",
    "import smile.plot.vega.*;\n"
   ]
  },
  {
   "cell_type": "code",
   "execution_count": 3,
   "metadata": {
    "vscode": {
     "languageId": "java"
    }
   },
   "outputs": [
    {
     "data": {
      "application/vnd.vegalite.v5+json": {
       "$schema": "https://vega.github.io/schema/vega-lite/v5.json",
       "background": null,
       "config": {
        "view": {
         "continuousHeight": 400,
         "continuousWidth": 400
        }
       },
       "data": {
        "values": "[\n  {\"a\": \"A\", \"b\": 28}, {\"a\": \"B\", \"b\": 55}, {\"a\": \"C\", \"b\": 43},\n  {\"a\": \"D\", \"b\": 91}, {\"a\": \"E\", \"b\": 81}, {\"a\": \"F\", \"b\": 53},\n  {\"a\": \"G\", \"b\": 19}, {\"a\": \"H\", \"b\": 87}, {\"a\": \"I\", \"b\": 52}\n]"
       },
       "description": "A simple bar chart with embedded data.",
       "encoding": {
        "x": {
         "axis": {
          "labelAngle": 30
         },
         "field": "a",
         "type": "ordinal"
        },
        "y": {
         "field": "b",
         "type": "quantitative"
        }
       },
       "mark": {
        "type": "bar"
       },
       "title": "Simple Bar Plot",
       "width": {
        "step": 30
       }
      },
      "text/plain": [
       "{\n",
       "  \"$schema\" : \"https://vega.github.io/schema/vega-lite/v5.json\",\n",
       "  \"config\" : {\n",
       "    \"view\" : {\n",
       "      \"continuousWidth\" : 400,\n",
       "      \"continuousHeight\" : 400\n",
       "    }\n",
       "  },\n",
       "  \"title\" : \"Simple Bar Plot\",\n",
       "  \"description\" : \"A simple bar chart with embedded data.\",\n",
       "  \"width\" : {\n",
       "    \"step\" : 30\n",
       "  },\n",
       "  \"background\" : null,\n",
       "  \"data\" : {\n",
       "    \"values\" : \"[\\n  {\\\"a\\\": \\\"A\\\", \\\"b\\\": 28}, {\\\"a\\\": \\\"B\\\", \\\"b\\\": 55}, {\\\"a\\\": \\\"C\\\", \\\"b\\\": 43},\\n  {\\\"a\\\": \\\"D\\\", \\\"b\\\": 91}, {\\\"a\\\": \\\"E\\\", \\\"b\\\": 81}, {\\\"a\\\": \\\"F\\\", \\\"b\\\": 53},\\n  {\\\"a\\\": \\\"G\\\", \\\"b\\\": 19}, {\\\"a\\\": \\\"H\\\", \\\"b\\\": 87}, {\\\"a\\\": \\\"I\\\", \\\"b\\\": 52}\\n]\"\n",
       "  },\n",
       "  \"mark\" : {\n",
       "    \"type\" : \"bar\"\n",
       "  },\n",
       "  \"encoding\" : {\n",
       "    \"x\" : {\n",
       "      \"field\" : \"a\",\n",
       "      \"type\" : \"ordinal\",\n",
       "      \"axis\" : {\n",
       "        \"labelAngle\" : 30.0\n",
       "      }\n",
       "    },\n",
       "    \"y\" : {\n",
       "      \"field\" : \"b\",\n",
       "      \"type\" : \"quantitative\"\n",
       "    }\n",
       "  }\n",
       "}"
      ]
     },
     "metadata": {},
     "output_type": "display_data"
    },
    {
     "data": {
      "text/plain": [
       "16dcef58-4e59-40c2-a248-ceba211e1201"
      ]
     },
     "execution_count": 3,
     "metadata": {},
     "output_type": "execute_result"
    }
   ],
   "source": [
    "var bar = new View(\"Simple Bar Plot\")\n",
    "        .description(\"A simple bar chart with embedded data.\")\n",
    "        .widthStep(30);\n",
    "bar.background(null);\n",
    "bar.data().values(\"\"\"\n",
    "        [\n",
    "          {\"a\": \"A\", \"b\": 28}, {\"a\": \"B\", \"b\": 55}, {\"a\": \"C\", \"b\": 43},\n",
    "          {\"a\": \"D\", \"b\": 91}, {\"a\": \"E\", \"b\": 81}, {\"a\": \"F\", \"b\": 53},\n",
    "          {\"a\": \"G\", \"b\": 19}, {\"a\": \"H\", \"b\": 87}, {\"a\": \"I\", \"b\": 52}\n",
    "        ]\"\"\");\n",
    "\n",
    "bar.mark(\"bar\");\n",
    "Field x = bar.encode(\"x\", \"a\").type(\"ordinal\");\n",
    "x.axis().labelAngle(30);\n",
    "bar.encode(\"y\", \"b\").type(\"quantitative\");\n",
    "\n",
    "display(bar.toPrettyString(), \"application/vnd.vegalite.v5+json\");"
   ]
  }
 ],
 "metadata": {
  "kernelspec": {
   "display_name": "java (Experimental JBang/j!)",
   "language": "java",
   "name": "jbang-jbang"
  },
  "language_info": {
   "codemirror_mode": "java",
   "file_extension": ".jshell",
   "mimetype": "text/x-java-source",
   "name": "Java",
   "pygments_lexer": "java",
   "version": "25+36-LTS"
  }
 },
 "nbformat": 4,
 "nbformat_minor": 4
}
