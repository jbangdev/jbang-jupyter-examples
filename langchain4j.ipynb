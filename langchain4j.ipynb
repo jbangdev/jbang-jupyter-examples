{
 "cells": [
  {
   "cell_type": "markdown",
   "metadata": {},
   "source": [
    "# Langchain4j example\n",
    "\n",
    "Start by adding the dependencies."
   ]
  },
  {
   "cell_type": "code",
   "execution_count": null,
   "metadata": {
    "vscode": {
     "languageId": "java"
    }
   },
   "outputs": [],
   "source": [
    "//DEPS dev.langchain4j:langchain4j-open-ai:1.0.0\n",
    "//DEPS dev.langchain4j:langchain4j:1.0.0\n",
    "//DEPS org.slf4j:slf4j-simple:2.0.17\n",
    "\n",
    "//DEPS io.github.cdimascio:dotenv-java:3.2.0\n"
   ]
  },
  {
   "cell_type": "markdown",
   "metadata": {},
   "source": [
    "## Setup env to get API secrets"
   ]
  },
  {
   "cell_type": "code",
   "execution_count": null,
   "metadata": {
    "vscode": {
     "languageId": "java"
    }
   },
   "outputs": [],
   "source": [
    "import static java.lang.IO.*;\n",
    "import java.nio.file.*;\n",
    "import io.github.cdimascio.dotenv.Dotenv;\n",
    "\n",
    "if(!Files.exists(Paths.get(\"env.properties\"))) {\n",
    "    println(\"env.properties not found, please create it and add OPENAI_API_KEY\");\n",
    "}\n",
    "\n",
    "var env = Dotenv.configure().ignoreIfMissing().filename(\"env.properties\").load();\n",
    "var apiKey = env.get(\"OPENAI_API_KEY\");"
   ]
  },
  {
   "cell_type": "markdown",
   "metadata": {
    "vscode": {
     "languageId": "java"
    }
   },
   "source": [
    "Setup language model:"
   ]
  },
  {
   "cell_type": "code",
   "execution_count": null,
   "metadata": {
    "vscode": {
     "languageId": "java"
    }
   },
   "outputs": [],
   "source": [
    "import dev.langchain4j.model.openai.OpenAiChatModel;\n",
    "import static java.time.Duration.ofSeconds;\n",
    "import dev.langchain4j.agent.tool.Tool;\n",
    "import dev.langchain4j.service.AiServices;\n",
    "import dev.langchain4j.memory.chat.MessageWindowChatMemory;\n",
    "\n",
    "var chatModel = OpenAiChatModel.builder()\n",
    "                .apiKey(apiKey)\n",
    "                .modelName(\"gpt-4o-mini\")\n",
    "                .temperature(0.0)\n",
    "                .timeout(ofSeconds(60))\n",
    "                .build();\n",
    "\n",
    "interface Assistant {\n",
    "    String chat(String message);\n",
    "}\n",
    "\n",
    "var ai = AiServices.builder(Assistant.class)\n",
    "                .chatModel(chatModel)\n",
    "                .chatMemory(MessageWindowChatMemory.withMaxMessages(20))\n",
    "                .build();"
   ]
  },
  {
   "cell_type": "markdown",
   "metadata": {},
   "source": [
    "Lets talk with the AI:"
   ]
  },
  {
   "cell_type": "code",
   "execution_count": null,
   "metadata": {
    "vscode": {
     "languageId": "java"
    }
   },
   "outputs": [],
   "source": [
    "display(ai.chat(\"generate a nice html paragraph with some nice colors and words, emojis and something moving/animating. only return the html, no other text\"),\"text/html\");\n"
   ]
  },
  {
   "cell_type": "markdown",
   "metadata": {},
   "source": [
    "## LLM's has limits\n",
    "\n",
    "For example if we ask it to report how many letters are in a word, it will most likely not get it right."
   ]
  },
  {
   "cell_type": "code",
   "execution_count": null,
   "metadata": {
    "vscode": {
     "languageId": "java"
    }
   },
   "outputs": [],
   "source": [
    "ai.chat(\"how many r's are in in the word 'strawberry'?\");"
   ]
  },
  {
   "cell_type": "markdown",
   "metadata": {},
   "source": [
    "## Use a tool\n",
    "\n",
    "Lets make a class that has methods that can be used as tools, i.e. to use for counting characters in a word."
   ]
  },
  {
   "cell_type": "code",
   "execution_count": null,
   "metadata": {
    "vscode": {
     "languageId": "java"
    }
   },
   "outputs": [],
   "source": [
    "public class Tools {\n",
    "   \n",
    "    @Tool\n",
    "    public long countOccurrences(String word, String character) {\n",
    "        println(\"countOccurrences: \" + word + \" \" + character); // put here so we can see the tool is called\n",
    "        return word.chars().filter(c -> c == character.charAt(0)).count();\n",
    "    }\n",
    "}\n",
    "\n",
    "new Tools().countOccurrences(\"strawberry\", \"r\");"
   ]
  },
  {
   "cell_type": "code",
   "execution_count": null,
   "metadata": {
    "vscode": {
     "languageId": "java"
    }
   },
   "outputs": [],
   "source": [
    "var ai = AiServices.builder(Assistant.class)\n",
    "                .chatModel(chatModel)\n",
    "                .chatMemory(MessageWindowChatMemory.withMaxMessages(20))\n",
    "                .tools(new Tools())\n",
    "                .build();"
   ]
  },
  {
   "cell_type": "markdown",
   "metadata": {},
   "source": [
    "Now lets ask again..."
   ]
  },
  {
   "cell_type": "code",
   "execution_count": null,
   "metadata": {
    "vscode": {
     "languageId": "java"
    }
   },
   "outputs": [],
   "source": [
    "ai.chat(\"how many r's are in in the word 'strawberry'?\");"
   ]
  }
 ],
 "metadata": {
  "kernelspec": {
   "display_name": "java (Experimental JBang/j!)",
   "language": "java",
   "name": "jbang-jbang"
  },
  "language_info": {
   "codemirror_mode": "java",
   "file_extension": ".jshell",
   "mimetype": "text/x-java-source",
   "name": "Java",
   "pygments_lexer": "java",
   "version": "25+36-LTS"
  }
 },
 "nbformat": 4,
 "nbformat_minor": 2
}
