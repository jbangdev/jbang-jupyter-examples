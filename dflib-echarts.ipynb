{
 "cells": [
  {
   "cell_type": "markdown",
   "metadata": {},
   "source": [
    "# DFLib with ECharts example\n",
    "\n",
    "Start by adding the dependencies using JBang `//DEPS` directive."
   ]
  },
  {
   "cell_type": "code",
   "execution_count": 27,
   "metadata": {
    "vscode": {
     "languageId": "java"
    }
   },
   "outputs": [],
   "source": [
    "//DEPS org.dflib:dflib-jupyter:2.0.0-M4\n"
   ]
  },
  {
   "cell_type": "markdown",
   "metadata": {
    "vscode": {
     "languageId": "java"
    }
   },
   "source": [
    "Create a DataFrame and plot it with ECharts."
   ]
  },
  {
   "cell_type": "code",
   "execution_count": 28,
   "metadata": {
    "vscode": {
     "languageId": "java"
    }
   },
   "outputs": [
    {
     "data": {
      "text/plain": [
       "ColumnDataFrame [{name:J. Cosin,salary:120000},{name:J. Walewski,salary:80000},{name:J. O'Hara,salary:95000}]"
      ]
     },
     "execution_count": 28,
     "metadata": {},
     "output_type": "execute_result"
    }
   ],
   "source": [
    "import org.dflib.*;\n",
    "\n",
    "DataFrame df = DataFrame.foldByRow(\"name\", \"salary\").of(\n",
    "                \"J. Cosin\", 120000,\n",
    "                \"J. Walewski\", 80000,\n",
    "                \"J. O'Hara\", 95000)\n",
    "       // .sort(Extractor.$col(\"salary\").desc()\n",
    "       ;\n",
    "\n",
    "df;"
   ]
  },
  {
   "cell_type": "code",
   "execution_count": 29,
   "metadata": {
    "vscode": {
     "languageId": "java"
    }
   },
   "outputs": [
    {
     "data": {
      "text/plain": [
       "org.dflib.echarts.EChartHtml@2102a79e"
      ]
     },
     "execution_count": 29,
     "metadata": {},
     "output_type": "execute_result"
    }
   ],
   "source": [
    "import org.dflib.echarts.*;\n",
    "\n",
    "ECharts\n",
    "        .chart()\n",
    "        .xAxis(\"name\")\n",
    "        .series(SeriesOpts.ofBar(), \"salary\")\n",
    "        .plot(df);\n"
   ]
  }
 ],
 "metadata": {
  "kernelspec": {
   "display_name": "java (Experimental JBang/j!)",
   "language": "java",
   "name": "jbang-jbang"
  },
  "language_info": {
   "codemirror_mode": "java",
   "file_extension": ".jshell",
   "mimetype": "text/x-java-source",
   "name": "Java",
   "pygments_lexer": "java",
   "version": "25+37-LTS-jvmci-b01"
  }
 },
 "nbformat": 4,
 "nbformat_minor": 2
}
