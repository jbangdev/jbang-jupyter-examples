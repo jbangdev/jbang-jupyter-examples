{
 "cells": [
  {
   "cell_type": "markdown",
   "metadata": {},
   "source": [
    "# JBang Jupyter Kernel Examples\n",
    "\n",
    "JJava supports using jbang for loading dependencies/resources."
   ]
  },
  {
   "cell_type": "code",
   "execution_count": 1,
   "metadata": {
    "vscode": {
     "languageId": "java"
    }
   },
   "outputs": [],
   "source": [
    "%jbang properties@jbangdev"
   ]
  },
  {
   "cell_type": "markdown",
   "metadata": {
    "vscode": {
     "languageId": "java"
    }
   },
   "source": [
    "Create a DataFrame and plot it with ECharts."
   ]
  },
  {
   "cell_type": "code",
   "execution_count": null,
   "metadata": {
    "vscode": {
     "languageId": "java"
    }
   },
   "outputs": [],
   "source": [
    "%jbang MyClass.java\n",
    "new mypackage.MyClass(\"Max\", 30).getName();"
   ]
  },
  {
   "cell_type": "code",
   "execution_count": 11,
   "metadata": {
    "vscode": {
     "languageId": "java"
    }
   },
   "outputs": [],
   "source": [
    "%%jbang\n",
    "//DEPS com.github.javafaker:javafaker:1.0.2\n",
    "import com.github.javafaker.Faker;\n",
    "\n",
    "Faker faker = new Faker();\n",
    "\n",
    "\n"
   ]
  },
  {
   "cell_type": "code",
   "execution_count": null,
   "metadata": {
    "vscode": {
     "languageId": "java"
    }
   },
   "outputs": [],
   "source": [
    "import com.github.javafaker.Faker;\n",
    "\n",
    "Faker faker = new Faker();\n",
    "\n",
    "faker.name().fullName();"
   ]
  },
  {
   "cell_type": "code",
   "execution_count": 1,
   "metadata": {
    "vscode": {
     "languageId": "java"
    }
   },
   "outputs": [
    {
     "data": {
      "text/plain": [
       "{VSCODE_CODE_CACHE_PATH=/Users/max/Library/Application Support/Cursor/CachedData/adb0f9e3e4f184bba7f3fa6dbfd72ad0ebb8cfd0, SDKMAN_CANDIDATES_API=https://api.sdkman.io/2, ORIGINAL_XDG_CURRENT_DESKTOP=undefined, TERM_FEATURES=T3LrMSc7UUw9Ts3BFGsSyHNoSxF, TERM_SESSION_ID=w0t0p0:7A5F8165-89E2-496A-8BD7-D126647F8156, PYTHONUNBUFFERED=1, VSCODE_CRASH_REPORTER_PROCESS_TYPE=extensionHost, __MISE_ORIG_PATH=/opt/homebrew/opt/mise/bin:/Users/max/.sdkman/candidates/maven/current/bin:/Users/max/.sdkman/candidates/java/current/bin:/Users/max/.local/bin:/Users/max/.jbang/bin:/usr/local/bin:/System/Cryptexes/App/usr/bin:/usr/bin:/bin:/usr/sbin:/sbin:/var/run/com.apple.security.cryptexd/codex.system/bootstrap/usr/local/bin:/var/run/com.apple.security.cryptexd/codex.system/bootstrap/usr/bin:/var/run/com.apple.security.cryptexd/codex.system/bootstrap/usr/appleinternal/bin:/opt/homebrew/bin:/Applications/iTerm.app/Contents/Resources/utilities, VSCODE_ESM_ENTRYPOINT=vs/workbench/api/node/extensionHostProcess, ITERM_SESSION_ID=w0t0p0:7A5F8165-89E2-496A-8BD7-D126647F8156, PYTHONIOENCODING=utf-8, VSCODE_NLS_CONFIG={\"userLocale\":\"en-us\",\"osLocale\":\"en-us\",\"resolvedLanguage\":\"en\",\"defaultMessagesFile\":\"/Applications/Cursor.app/Contents/Resources/app/out/nls.messages.json\",\"locale\":\"en-us\",\"availableLanguages\":{}}, VSCODE_CLI=1, CURSOR_TRACE_ID=11ac640a588c4d02baa5f11e4a3a0080, PATH=/Users/max/.jbang/cache/jdks/25/bin:/Users/max/.jbang/cache/jdks/25/bin:/opt/homebrew/opt/mise/bin:/Users/max/.sdkman/candidates/maven/current/bin:/Users/max/.sdkman/candidates/java/current/bin:/Users/max/.local/bin:/Users/max/.jbang/bin:/usr/local/bin:/System/Cryptexes/App/usr/bin:/usr/bin:/bin:/usr/sbin:/sbin:/var/run/com.apple.security.cryptexd/codex.system/bootstrap/usr/local/bin:/var/run/com.apple.security.cryptexd/codex.system/bootstrap/usr/bin:/var/run/com.apple.security.cryptexd/codex.system/bootstrap/usr/appleinternal/bin:/opt/homebrew/bin:/Applications/iTerm.app/Contents/Resources/utilities, LOGNAME=max, XPC_FLAGS=0x0, __CF_USER_TEXT_ENCODING=0x1F5:0x0:0x0, LC_TERMINAL_VERSION=3.6.2, __MISE_SESSION=eAFqX5OTn5gCWGpKfEl+fk7xhHVQXnJ+XlpmevGkmzb6ocWpRcX6uYkV+sn5Kan6WaUFlSWpRbpZiWWJKBzd1IrE3IKc1GL93MziVL2S/Nycm8pIuvUgZoJl9SFssKI1EHZ8QWJJRvGExal5ZQ2LUzKLbhoh6SXS5jWpeWXxZYlF8RmJxRkbTEwSk9IsUs2NDJLMLE3S0tbmJJakFpfElxakJJakHhFggAPGmfM5WW0BNktlvQ, MISE_SHELL=fish, TERM_PROGRAM_VERSION=3.6.2, JAVA_HOME=/Users/max/.sdkman/candidates/java/current, VSCODE_PID=95110, MallocNanoZone=0, ITERM_PROFILE=Default, SDKMAN_DIR=/Users/max/.sdkman, SDKMAN_CANDIDATES_DIR=/Users/max/.sdkman/candidates, XPC_SERVICE_NAME=application.com.todesktop.230313mzl4w4u92.33567643.33567649.B5132191-395E-43E7-8816-5FB7147C982A, ELECTRON_RUN_AS_NODE=1, JBANG_RUNTIME_SHELL=bash, VSCODE_HANDLES_UNCAUGHT_ERRORS=true, JBANG_LAUNCH_CMD=/Users/max/.jbang/bin/jbang, VSCODE_CWD=/Users/max/code/jupyter-java/jupyter-java-examples, COMMAND_MODE=unix2003, SHLVL=1, SHELL=/opt/homebrew/bin/fish, __CFBundleIdentifier=com.todesktop.230313mzl4w4u92, TMPDIR=/var/folders/5v/fklfyxkn35x_5vxxdl6gvtjw0000gn/T/, COLORTERM=truecolor, VSCODE_IPC_HOOK=/Users/max/Library/Application Support/Cursor/1.7.-main.sock, HOME=/Users/max, LC_TERMINAL=iTerm2, LaunchInstanceID=07E58DB7-BA22-4E8E-BBA2-406B1B1AEA06, COLORFGBG=15;0, TERM=xterm-256color, CDPATH=/Users/max/code:/Users/max/code/jbangdev:/Users/max/code/jreleaser, LANG=en_US.UTF-8, PYTHON_FROZEN_MODULES=on, TERM_PROGRAM=iTerm.app, JBANG_STDIN_NOTTY=true, VSCODE_PROCESS_TITLE=extension-host  [1-1], __MISE_DIFF=eAFrXpyfk9KwOC+1vGFJQWJJxgQASssINA, MAVEN_HOME=/Users/max/.sdkman/candidates/maven/current, SSH_AUTH_SOCK=/private/tmp/com.apple.launchd.zuCOePzrZo/Listeners, VSCODE_L10N_BUNDLE_LOCATION=, TERMINFO_DIRS=/Applications/iTerm.app/Contents/Resources/terminfo:/usr/share/terminfo, USER=max, ELECTRON_NO_ATTACH_CONSOLE=1, SECURITYSESSIONID=186b2, SDKMAN_PLATFORM=darwinarm64, PWD=/Users/max/code/jupyter-java/jupyter-java-examples/notebooks}"
      ]
     },
     "execution_count": 1,
     "metadata": {},
     "output_type": "execute_result"
    }
   ],
   "source": [
    "System.getenv();\n"
   ]
  },
  {
   "cell_type": "code",
   "execution_count": 4,
   "metadata": {
    "vscode": {
     "languageId": "java"
    }
   },
   "outputs": [
    {
     "data": {
      "text/markdown": [
       "Markdown *test* **snippet**:\n",
       "* bullet 1\n",
       "* bullet 2"
      ],
      "text/plain": [
       "Markdown *test* **snippet**:\n",
       "* bullet 1\n",
       "* bullet 2"
      ]
     },
     "metadata": {},
     "output_type": "display_data"
    }
   ],
   "source": [
    "var id = display(\"Markdown *test* **snippet**:\\n* bullet 1\\n* bullet 2\", \"text/markdown\")"
   ]
  },
  {
   "cell_type": "code",
   "execution_count": null,
   "metadata": {
    "vscode": {
     "languageId": "java"
    }
   },
   "outputs": [],
   "source": []
  }
 ],
 "metadata": {
  "kernelspec": {
   "display_name": "java (Experimental JBang/j!)",
   "language": "java",
   "name": "jbang-jbang"
  },
  "language_info": {
   "codemirror_mode": "java",
   "file_extension": ".jshell",
   "mimetype": "text/x-java-source",
   "name": "Java",
   "pygments_lexer": "java",
   "version": "25+37-LTS-jvmci-b01"
  }
 },
 "nbformat": 4,
 "nbformat_minor": 2
}
