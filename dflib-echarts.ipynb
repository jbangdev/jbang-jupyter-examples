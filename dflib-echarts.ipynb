{
 "cells": [
  {
   "cell_type": "markdown",
   "metadata": {},
   "source": [
    "# DFLib with ECharts example\n",
    "\n",
    "Start by adding the dependencies using JBang `//DEPS` directive."
   ]
  },
  {
   "cell_type": "code",
   "execution_count": 1,
   "metadata": {
    "vscode": {
     "languageId": "java"
    }
   },
   "outputs": [
    {
     "name": "stdout",
     "output_type": "stream",
     "text": [
      "Adding to classpath: /Users/manderse/.m2/repository/org/dflib/dflib-jupyter/2.0.0-M4/dflib-jupyter-2.0.0-M4.jar:/Users/manderse/.m2/repository/org/dflib/dflib/2.0.0-M4/dflib-2.0.0-M4.jar:/Users/manderse/.m2/repository/org/dflib/dflib-avro/2.0.0-M4/dflib-avro-2.0.0-M4.jar:/Users/manderse/.m2/repository/org/apache/avro/avro/1.12.0/avro-1.12.0.jar:/Users/manderse/.m2/repository/org/slf4j/slf4j-api/2.0.16/slf4j-api-2.0.16.jar:/Users/manderse/.m2/repository/org/dflib/dflib-csv/2.0.0-M4/dflib-csv-2.0.0-M4.jar:/Users/manderse/.m2/repository/org/apache/commons/commons-csv/1.11.0/commons-csv-1.11.0.jar:/Users/manderse/.m2/repository/commons-io/commons-io/2.16.1/commons-io-2.16.1.jar:/Users/manderse/.m2/repository/commons-codec/commons-codec/1.16.1/commons-codec-1.16.1.jar:/Users/manderse/.m2/repository/org/dflib/dflib-excel/2.0.0-M4/dflib-excel-2.0.0-M4.jar:/Users/manderse/.m2/repository/org/apache/poi/poi/5.4.1/poi-5.4.1.jar:/Users/manderse/.m2/repository/org/apache/commons/commons-collections4/4.4/commons-collections4-4.4.jar:/Users/manderse/.m2/repository/org/apache/commons/commons-math3/3.6.1/commons-math3-3.6.1.jar:/Users/manderse/.m2/repository/com/zaxxer/SparseBitSet/1.3/SparseBitSet-1.3.jar:/Users/manderse/.m2/repository/org/apache/poi/poi-ooxml/5.4.1/poi-ooxml-5.4.1.jar:/Users/manderse/.m2/repository/org/apache/poi/poi-ooxml-lite/5.4.1/poi-ooxml-lite-5.4.1.jar:/Users/manderse/.m2/repository/org/apache/xmlbeans/xmlbeans/5.3.0/xmlbeans-5.3.0.jar:/Users/manderse/.m2/repository/com/github/virtuald/curvesapi/1.08/curvesapi-1.08.jar:/Users/manderse/.m2/repository/org/apache/commons/commons-compress/1.27.1/commons-compress-1.27.1.jar:/Users/manderse/.m2/repository/org/apache/commons/commons-lang3/3.16.0/commons-lang3-3.16.0.jar:/Users/manderse/.m2/repository/org/apache/logging/log4j/log4j-to-slf4j/2.23.1/log4j-to-slf4j-2.23.1.jar:/Users/manderse/.m2/repository/org/apache/logging/log4j/log4j-api/2.23.1/log4j-api-2.23.1.jar:/Users/manderse/.m2/repository/org/dflib/dflib-parquet/2.0.0-M4/dflib-parquet-2.0.0-M4.jar:/Users/manderse/.m2/repository/org/apache/parquet/parquet-common/1.15.2/parquet-common-1.15.2.jar:/Users/manderse/.m2/repository/org/apache/parquet/parquet-format-structures/1.15.2/parquet-format-structures-1.15.2.jar:/Users/manderse/.m2/repository/org/apache/parquet/parquet-column/1.15.2/parquet-column-1.15.2.jar:/Users/manderse/.m2/repository/org/apache/parquet/parquet-encoding/1.15.2/parquet-encoding-1.15.2.jar:/Users/manderse/.m2/repository/org/apache/parquet/parquet-hadoop/1.15.2/parquet-hadoop-1.15.2.jar:/Users/manderse/.m2/repository/org/apache/parquet/parquet-jackson/1.15.2/parquet-jackson-1.15.2.jar:/Users/manderse/.m2/repository/org/xerial/snappy/snappy-java/1.1.10.7/snappy-java-1.1.10.7.jar:/Users/manderse/.m2/repository/io/airlift/aircompressor/2.0.2/aircompressor-2.0.2.jar:/Users/manderse/.m2/repository/com/github/luben/zstd-jni/1.5.6-6/zstd-jni-1.5.6-6.jar:/Users/manderse/.m2/repository/org/apache/hadoop/hadoop-common/3.4.1/hadoop-common-3.4.1.jar:/Users/manderse/.m2/repository/org/apache/hadoop/thirdparty/hadoop-shaded-protobuf_3_25/1.3.0/hadoop-shaded-protobuf_3_25-1.3.0.jar:/Users/manderse/.m2/repository/org/apache/hadoop/thirdparty/hadoop-shaded-guava/1.3.0/hadoop-shaded-guava-1.3.0.jar:/Users/manderse/.m2/repository/commons-collections/commons-collections/3.2.2/commons-collections-3.2.2.jar:/Users/manderse/.m2/repository/jakarta/activation/jakarta.activation-api/1.2.1/jakarta.activation-api-1.2.1.jar:/Users/manderse/.m2/repository/org/codehaus/jettison/jettison/1.5.4/jettison-1.5.4.jar:/Users/manderse/.m2/repository/org/apache/commons/commons-configuration2/2.10.1/commons-configuration2-2.10.1.jar:/Users/manderse/.m2/repository/commons-logging/commons-logging/1.3.0/commons-logging-1.3.0.jar:/Users/manderse/.m2/repository/com/google/re2j/re2j/1.1/re2j-1.1.jar:/Users/manderse/.m2/repository/com/google/code/gson/gson/2.9.0/gson-2.9.0.jar:/Users/manderse/.m2/repository/org/apache/hadoop/hadoop-auth/3.4.1/hadoop-auth-3.4.1.jar:/Users/manderse/.m2/repository/org/apache/kerby/kerb-util/2.0.3/kerb-util-2.0.3.jar:/Users/manderse/.m2/repository/org/apache/kerby/kerby-config/2.0.3/kerby-config-2.0.3.jar:/Users/manderse/.m2/repository/org/apache/kerby/kerb-crypto/2.0.3/kerb-crypto-2.0.3.jar:/Users/manderse/.m2/repository/org/apache/kerby/kerby-util/2.0.3/kerby-util-2.0.3.jar:/Users/manderse/.m2/repository/io/netty/netty-handler/4.1.100.Final/netty-handler-4.1.100.Final.jar:/Users/manderse/.m2/repository/io/netty/netty-common/4.1.100.Final/netty-common-4.1.100.Final.jar:/Users/manderse/.m2/repository/io/netty/netty-resolver/4.1.100.Final/netty-resolver-4.1.100.Final.jar:/Users/manderse/.m2/repository/io/netty/netty-buffer/4.1.100.Final/netty-buffer-4.1.100.Final.jar:/Users/manderse/.m2/repository/io/netty/netty-transport/4.1.100.Final/netty-transport-4.1.100.Final.jar:/Users/manderse/.m2/repository/io/netty/netty-transport-native-unix-common/4.1.100.Final/netty-transport-native-unix-common-4.1.100.Final.jar:/Users/manderse/.m2/repository/io/netty/netty-codec/4.1.100.Final/netty-codec-4.1.100.Final.jar:/Users/manderse/.m2/repository/io/netty/netty-transport-native-epoll/4.1.100.Final/netty-transport-native-epoll-4.1.100.Final.jar:/Users/manderse/.m2/repository/io/netty/netty-transport-classes-epoll/4.1.100.Final/netty-transport-classes-epoll-4.1.100.Final.jar:/Users/manderse/.m2/repository/io/dropwizard/metrics/metrics-core/3.2.4/metrics-core-3.2.4.jar:/Users/manderse/.m2/repository/org/bouncycastle/bcprov-jdk18on/1.78.1/bcprov-jdk18on-1.78.1.jar:/Users/manderse/.m2/repository/org/codehaus/woodstox/stax2-api/4.2.1/stax2-api-4.2.1.jar:/Users/manderse/.m2/repository/com/fasterxml/woodstox/woodstox-core/5.4.0/woodstox-core-5.4.0.jar:/Users/manderse/.m2/repository/org/apache/hadoop/hadoop-client/3.4.1/hadoop-client-3.4.1.jar:/Users/manderse/.m2/repository/org/apache/hadoop/hadoop-mapreduce-client-jobclient/3.4.1/hadoop-mapreduce-client-jobclient-3.4.1.jar:/Users/manderse/.m2/repository/org/apache/hadoop/hadoop-mapreduce-client-common/3.4.1/hadoop-mapreduce-client-common-3.4.1.jar:/Users/manderse/.m2/repository/org/apache/hadoop/hadoop-mapreduce-client-core/3.4.1/hadoop-mapreduce-client-core-3.4.1.jar:/Users/manderse/.m2/repository/io/netty/netty-all/4.1.100.Final/netty-all-4.1.100.Final.jar:/Users/manderse/.m2/repository/io/netty/netty-codec-dns/4.1.100.Final/netty-codec-dns-4.1.100.Final.jar:/Users/manderse/.m2/repository/io/netty/netty-codec-haproxy/4.1.100.Final/netty-codec-haproxy-4.1.100.Final.jar:/Users/manderse/.m2/repository/io/netty/netty-codec-http/4.1.100.Final/netty-codec-http-4.1.100.Final.jar:/Users/manderse/.m2/repository/io/netty/netty-codec-http2/4.1.100.Final/netty-codec-http2-4.1.100.Final.jar:/Users/manderse/.m2/repository/io/netty/netty-codec-memcache/4.1.100.Final/netty-codec-memcache-4.1.100.Final.jar:/Users/manderse/.m2/repository/io/netty/netty-codec-mqtt/4.1.100.Final/netty-codec-mqtt-4.1.100.Final.jar:/Users/manderse/.m2/repository/io/netty/netty-codec-redis/4.1.100.Final/netty-codec-redis-4.1.100.Final.jar:/Users/manderse/.m2/repository/io/netty/netty-codec-smtp/4.1.100.Final/netty-codec-smtp-4.1.100.Final.jar:/Users/manderse/.m2/repository/io/netty/netty-codec-socks/4.1.100.Final/netty-codec-socks-4.1.100.Final.jar:/Users/manderse/.m2/repository/io/netty/netty-codec-stomp/4.1.100.Final/netty-codec-stomp-4.1.100.Final.jar:/Users/manderse/.m2/repository/io/netty/netty-codec-xml/4.1.100.Final/netty-codec-xml-4.1.100.Final.jar:/Users/manderse/.m2/repository/io/netty/netty-handler-proxy/4.1.100.Final/netty-handler-proxy-4.1.100.Final.jar:/Users/manderse/.m2/repository/io/netty/netty-handler-ssl-ocsp/4.1.100.Final/netty-handler-ssl-ocsp-4.1.100.Final.jar:/Users/manderse/.m2/repository/io/netty/netty-resolver-dns/4.1.100.Final/netty-resolver-dns-4.1.100.Final.jar:/Users/manderse/.m2/repository/io/netty/netty-transport-rxtx/4.1.100.Final/netty-transport-rxtx-4.1.100.Final.jar:/Users/manderse/.m2/repository/io/netty/netty-transport-sctp/4.1.100.Final/netty-transport-sctp-4.1.100.Final.jar:/Users/manderse/.m2/repository/io/netty/netty-transport-udt/4.1.100.Final/netty-transport-udt-4.1.100.Final.jar:/Users/manderse/.m2/repository/io/netty/netty-transport-classes-kqueue/4.1.100.Final/netty-transport-classes-kqueue-4.1.100.Final.jar:/Users/manderse/.m2/repository/io/netty/netty-resolver-dns-classes-macos/4.1.100.Final/netty-resolver-dns-classes-macos-4.1.100.Final.jar:/Users/manderse/.m2/repository/io/netty/netty-transport-native-epoll/4.1.100.Final/netty-transport-native-epoll-4.1.100.Final-linux-x86_64.jar:/Users/manderse/.m2/repository/io/netty/netty-transport-native-epoll/4.1.100.Final/netty-transport-native-epoll-4.1.100.Final-linux-aarch_64.jar:/Users/manderse/.m2/repository/io/netty/netty-transport-native-kqueue/4.1.100.Final/netty-transport-native-kqueue-4.1.100.Final-osx-x86_64.jar:/Users/manderse/.m2/repository/io/netty/netty-transport-native-kqueue/4.1.100.Final/netty-transport-native-kqueue-4.1.100.Final-osx-aarch_64.jar:/Users/manderse/.m2/repository/io/netty/netty-resolver-dns-native-macos/4.1.100.Final/netty-resolver-dns-native-macos-4.1.100.Final-osx-x86_64.jar:/Users/manderse/.m2/repository/io/netty/netty-resolver-dns-native-macos/4.1.100.Final/netty-resolver-dns-native-macos-4.1.100.Final-osx-aarch_64.jar:/Users/manderse/.m2/repository/org/dflib/dflib-jdbc/2.0.0-M4/dflib-jdbc-2.0.0-M4.jar:/Users/manderse/.m2/repository/org/dflib/dflib-json/2.0.0-M4/dflib-json-2.0.0-M4.jar:/Users/manderse/.m2/repository/com/jayway/jsonpath/json-path/2.9.0/json-path-2.9.0.jar:/Users/manderse/.m2/repository/net/minidev/json-smart/2.5.0/json-smart-2.5.0.jar:/Users/manderse/.m2/repository/net/minidev/accessors-smart/2.5.0/accessors-smart-2.5.0.jar:/Users/manderse/.m2/repository/org/ow2/asm/asm/9.3/asm-9.3.jar:/Users/manderse/.m2/repository/com/fasterxml/jackson/core/jackson-core/2.15.4/jackson-core-2.15.4.jar:/Users/manderse/.m2/repository/com/fasterxml/jackson/core/jackson-databind/2.15.4/jackson-databind-2.15.4.jar:/Users/manderse/.m2/repository/com/fasterxml/jackson/core/jackson-annotations/2.15.4/jackson-annotations-2.15.4.jar:/Users/manderse/.m2/repository/com/fasterxml/jackson/datatype/jackson-datatype-jsr310/2.15.4/jackson-datatype-jsr310-2.15.4.jar:/Users/manderse/.m2/repository/org/dflib/dflib-echarts/2.0.0-M4/dflib-echarts-2.0.0-M4.jar:/Users/manderse/.m2/repository/com/github/spullara/mustache/java/compiler/0.9.10/compiler-0.9.10.jar:/Users/manderse/.m2/repository/org/slf4j/slf4j-simple/2.0.16/slf4j-simple-2.0.16.jar\n"
     ]
    },
    {
     "name": "stderr",
     "output_type": "stream",
     "text": [
      "'getKernelInstance()' was deprecated in favor of 'kernel()' and will be eventually removed.\n"
     ]
    }
   ],
   "source": [
    "//DEPS org.dflib:dflib-jupyter:2.0.0-M4\n"
   ]
  },
  {
   "cell_type": "markdown",
   "metadata": {
    "vscode": {
     "languageId": "java"
    }
   },
   "source": [
    "Create a DataFrame and plot it with ECharts."
   ]
  },
  {
   "cell_type": "code",
   "execution_count": 4,
   "metadata": {
    "vscode": {
     "languageId": "java"
    }
   },
   "outputs": [
    {
     "data": {
      "text/plain": [
       "\n",
       "name        salary\n",
       "----------- ------\n",
       "J. Cosin    120000\n",
       "J. Walewski  80000\n",
       "J. O'Hara    95000\n",
       "3 rows x 2 columns"
      ]
     },
     "execution_count": 4,
     "metadata": {},
     "output_type": "execute_result"
    }
   ],
   "source": [
    "import org.dflib.*;\n",
    "\n",
    "DataFrame df = DataFrame.foldByRow(\"name\", \"salary\").of(\n",
    "                \"J. Cosin\", 120000,\n",
    "                \"J. Walewski\", 80000,\n",
    "                \"J. O'Hara\", 95000)\n",
    "       // .sort(Extractor.$col(\"salary\").desc()\n",
    "       ;\n",
    "\n",
    "df;"
   ]
  },
  {
   "cell_type": "code",
   "execution_count": 5,
   "metadata": {
    "vscode": {
     "languageId": "java"
    }
   },
   "outputs": [
    {
     "data": {
      "text/html": [
       "<script type='text/javascript' src='https://cdn.jsdelivr.net/npm/echarts@5.6.0/dist/echarts.min.js'></script><div id='dfl_ech_7480' class='dfl_ech' style='width: 600px;height:400px;'></div><script type='text/javascript'>var chart_dfl_ech_7480 = echarts.init(\n",
       "        document.getElementById('dfl_ech_7480'),\n",
       "        null,\n",
       "   );\n",
       "    var option_dfl_ech_7480 = {\n",
       "        dataset: {\n",
       "            source: [\n",
       "                ['L0','J. Cosin','J. Walewski','J. O\\'Hara'],\n",
       "                ['salary',120000,80000,95000]\n",
       "            ]\n",
       "        },\n",
       "        xAxis: [\n",
       "        {\n",
       "            type: 'category'\n",
       "        },\n",
       "        ],\n",
       "        yAxis: [\n",
       "        {\n",
       "            type: 'value'\n",
       "        },\n",
       "        ],\n",
       "        series: [\n",
       "            {\n",
       "                name: 'salary',\n",
       "                encode: {\n",
       "                    x: 0,\n",
       "                    y: 1,\n",
       "                },\n",
       "                seriesLayoutBy: 'row',\n",
       "                type: 'bar'\n",
       "            },\n",
       "        ]\n",
       "    };\n",
       "    option_dfl_ech_7480 && chart_dfl_ech_7480.setOption(option_dfl_ech_7480);</script>"
      ],
      "text/plain": [
       "<script type='text/javascript' src='https://cdn.jsdelivr.net/npm/echarts@5.6.0/dist/echarts.min.js'></script><div id='dfl_ech_7480' class='dfl_ech' style='width: 600px;height:400px;'></div><script type='text/javascript'>var chart_dfl_ech_7480 = echarts.init(\n",
       "        document.getElementById('dfl_ech_7480'),\n",
       "        null,\n",
       "   );\n",
       "    var option_dfl_ech_7480 = {\n",
       "        dataset: {\n",
       "            source: [\n",
       "                ['L0','J. Cosin','J. Walewski','J. O\\'Hara'],\n",
       "                ['salary',120000,80000,95000]\n",
       "            ]\n",
       "        },\n",
       "        xAxis: [\n",
       "        {\n",
       "            type: 'category'\n",
       "        },\n",
       "        ],\n",
       "        yAxis: [\n",
       "        {\n",
       "            type: 'value'\n",
       "        },\n",
       "        ],\n",
       "        series: [\n",
       "            {\n",
       "                name: 'salary',\n",
       "                encode: {\n",
       "                    x: 0,\n",
       "                    y: 1,\n",
       "                },\n",
       "                seriesLayoutBy: 'row',\n",
       "                type: 'bar'\n",
       "            },\n",
       "        ]\n",
       "    };\n",
       "    option_dfl_ech_7480 && chart_dfl_ech_7480.setOption(option_dfl_ech_7480);</script>"
      ]
     },
     "execution_count": 5,
     "metadata": {},
     "output_type": "execute_result"
    }
   ],
   "source": [
    "import org.dflib.echarts.*;\n",
    "\n",
    "ECharts\n",
    "        .chart()\n",
    "        .xAxis(\"name\")\n",
    "        .series(SeriesOpts.ofBar(), \"salary\")\n",
    "        .plot(df);\n"
   ]
  }
 ],
 "metadata": {
  "kernelspec": {
   "display_name": "java (Experimental JBang/j!)",
   "language": "java",
   "name": "jbang-jbang"
  },
  "language_info": {
   "codemirror_mode": "java",
   "file_extension": ".jshell",
   "mimetype": "text/x-java-source",
   "name": "Java",
   "pygments_lexer": "java",
   "version": "19.0.2+7-FR"
  }
 },
 "nbformat": 4,
 "nbformat_minor": 2
}
