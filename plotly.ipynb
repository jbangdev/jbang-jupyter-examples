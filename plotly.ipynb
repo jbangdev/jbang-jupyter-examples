{
 "cells": [
  {
   "cell_type": "markdown",
   "metadata": {},
   "source": [
    "# Plotly\n",
    "\n",
    "\n",
    "Plotly has a Java sdk via JTableSaw project."
   ]
  },
  {
   "cell_type": "code",
   "execution_count": 9,
   "metadata": {
    "vscode": {
     "languageId": "java"
    }
   },
   "outputs": [
    {
     "name": "stdout",
     "output_type": "stream",
     "text": [
      "Adding to classpath: /Users/manderse/.m2/repository/tech/tablesaw/tablesaw-jsplot/0.44.4/tablesaw-jsplot-0.44.4.jar:/Users/manderse/.m2/repository/com/fasterxml/jackson/core/jackson-databind/2.19.0/jackson-databind-2.19.0.jar:/Users/manderse/.m2/repository/com/fasterxml/jackson/core/jackson-annotations/2.19.0/jackson-annotations-2.19.0.jar:/Users/manderse/.m2/repository/com/fasterxml/jackson/core/jackson-core/2.19.0/jackson-core-2.19.0.jar:/Users/manderse/.m2/repository/io/pebbletemplates/pebble/3.2.4/pebble-3.2.4.jar:/Users/manderse/.m2/repository/org/unbescape/unbescape/1.1.6.RELEASE/unbescape-1.1.6.RELEASE.jar:/Users/manderse/.m2/repository/org/slf4j/slf4j-api/2.0.12/slf4j-api-2.0.12.jar:/Users/manderse/.m2/repository/tech/tablesaw/tablesaw-core/0.44.4/tablesaw-core-0.44.4.jar:/Users/manderse/.m2/repository/com/google/guava/guava/33.0.0-jre/guava-33.0.0-jre.jar:/Users/manderse/.m2/repository/com/google/guava/failureaccess/1.0.2/failureaccess-1.0.2.jar:/Users/manderse/.m2/repository/com/google/guava/listenablefuture/9999.0-empty-to-avoid-conflict-with-guava/listenablefuture-9999.0-empty-to-avoid-conflict-with-guava.jar:/Users/manderse/.m2/repository/com/google/code/findbugs/jsr305/3.0.2/jsr305-3.0.2.jar:/Users/manderse/.m2/repository/org/checkerframework/checker-qual/3.41.0/checker-qual-3.41.0.jar:/Users/manderse/.m2/repository/com/google/errorprone/error_prone_annotations/2.23.0/error_prone_annotations-2.23.0.jar:/Users/manderse/.m2/repository/com/google/j2objc/j2objc-annotations/2.8/j2objc-annotations-2.8.jar:/Users/manderse/.m2/repository/org/apache/commons/commons-math3/3.6.1/commons-math3-3.6.1.jar:/Users/manderse/.m2/repository/it/unimi/dsi/fastutil/8.5.13/fastutil-8.5.13.jar:/Users/manderse/.m2/repository/org/roaringbitmap/RoaringBitmap/1.0.5/RoaringBitmap-1.0.5.jar:/Users/manderse/.m2/repository/com/univocity/univocity-parsers/2.9.1/univocity-parsers-2.9.1.jar:/Users/manderse/.m2/repository/com/ibm/icu/icu4j/74.2/icu4j-74.2.jar:/Users/manderse/.m2/repository/io/github/classgraph/classgraph/4.8.168/classgraph-4.8.168.jar\n"
     ]
    }
   ],
   "source": [
    "//DEPS tech.tablesaw:tablesaw-jsplot:RELEASE\n",
    "\n",
    "import tech.tablesaw.plotly.*;\n",
    "import tech.tablesaw.plotly.api.*;\n",
    "import tech.tablesaw.plotly.components.*;\n",
    "import tech.tablesaw.plotly.traces.*;\n"
   ]
  },
  {
   "cell_type": "code",
   "execution_count": null,
   "metadata": {
    "vscode": {
     "languageId": "java"
    }
   },
   "outputs": [],
   "source": [
    "import org.dflib.jjava.jupyter.kernel.display.mime.MIMEType;\n",
    "\n",
    "kernel().getRenderer()\n",
    "    .createRegistration(tech.tablesaw.plotly.components.Figure.class)\n",
    "    .preferring(MIMEType.TEXT_HTML)\n",
    "    .register((figure, ctx) -> {\n",
    "        ctx.renderIfRequested(MIMEType.TEXT_HTML, \n",
    "                              () -> {\n",
    "            String id = UUID.randomUUID().toString().replace(\"-\", \"\");\n",
    "            boolean plotImage = System.getenv().containsKey(\"D2L_PLOT_IMAGE\");\n",
    "\n",
    "            figure.asJavascript(id);\n",
    "            Map<String, Object> context = figure.getContext();\n",
    "            StringBuilder html = new StringBuilder();\n",
    "            html.append(\"<img id=\\\"\").append(id).append(\"_img\\\"></img>\\n\");\n",
    "            html.append(\"<div id=\\\"\").append(id).append(\"\\\"></div>\\n\");\n",
    "            html.append(\"<script>require(['https://cdn.plot.ly/plotly-1.57.0.min.js'], Plotly => {\\n\");\n",
    "            if (!plotImage) {\n",
    "                // render javascript\n",
    "                html.append(\"var \").append(context.get(\"targetName\"))\n",
    "                    .append(\" = document.getElementById('\").append(id).append(\"');\\n\");\n",
    "            } else {\n",
    "                // render image\n",
    "                html.append(\"var \").append(context.get(\"targetName\"))\n",
    "                    .append(\" = document.createElement('div');\\n\");\n",
    "                html.append(\"var \").append(context.get(\"targetName\") + \"_img\")\n",
    "                    .append(\" = document.getElementById('\").append(id).append(\"_img');\\n\");\n",
    "                String plotFunction = (String) context.get(\"plotFunction\");\n",
    "                String imgExt = \".then(function(gd) { Plotly.toImage(gd).then(function(url) { \" \n",
    "                    + context.get(\"targetName\") + \"_img\" + \".src=url; } )});\";\n",
    "                context.put(\"plotFunction\", plotFunction.substring(0, plotFunction.length() - 1) + imgExt);\n",
    "            }\n",
    "            html.append(context.get(\"figure\")).append('\\n');\n",
    "            html.append(context.get(\"plotFunction\")).append('\\n');\n",
    "            html.append(\"})</script>\\n\");\n",
    "            return html.toString();\n",
    "    });\n",
    "});"
   ]
  },
  {
   "cell_type": "code",
   "execution_count": 22,
   "metadata": {
    "vscode": {
     "languageId": "java"
    }
   },
   "outputs": [
    {
     "data": {
      "text/html": [
       "<img id=\"d3ea93bbbfd34138b8a3dfc336a00e4c_img\"></img>\n",
       "<div id=\"d3ea93bbbfd34138b8a3dfc336a00e4c\"></div>\n",
       "<script>require(['https://cdn.plot.ly/plotly-1.57.0.min.js'], Plotly => {\n",
       "var target_d3ea93bbbfd34138b8a3dfc336a00e4c = document.createElement('div');\n",
       "var target_d3ea93bbbfd34138b8a3dfc336a00e4c_img = document.getElementById('d3ea93bbbfd34138b8a3dfc336a00e4c_img');\n",
       "var layout = {\n",
       "    title: 'Cute animals',\n",
       "    height: 600,\n",
       "    width: 800,\n",
       "    xaxis: {\n",
       "    title: 'Animal types',\n",
       "    },\n",
       "\n",
       "    yaxis: {\n",
       "    title: 'rating',\n",
       "    },\n",
       "\n",
       "};\n",
       "\n",
       "var trace0 =\n",
       "{\n",
       "x: [\"0.0\",\"1.0\",\"2.0\"],\n",
       "y: [\"90.1\",\"84.3\",\"99.7\"],\n",
       "mode: 'lines',\n",
       "fill: 'tonexty',\n",
       "xaxis: 'x',\n",
       "yaxis: 'y',\n",
       "type: 'scatter',\n",
       "name: '',\n",
       "};\n",
       "\n",
       "\n",
       "var data = [ trace0];\n",
       "Plotly.newPlot(target_d3ea93bbbfd34138b8a3dfc336a00e4c, data, layout).then(function(gd) { Plotly.toImage(gd).then(function(url) { target_d3ea93bbbfd34138b8a3dfc336a00e4c_img.src=url; } )});\n",
       "})</script>\n"
      ],
      "text/plain": [
       "tech.tablesaw.plotly.components.Figure@29db9981"
      ]
     },
     "metadata": {},
     "output_type": "display_data"
    },
    {
     "data": {
      "text/plain": [
       "1e79c41b-13c4-4a62-a984-7378d21559e0"
      ]
     },
     "execution_count": 22,
     "metadata": {},
     "output_type": "execute_result"
    }
   ],
   "source": [
    "import tech.tablesaw.api.*; // EDIT this import was missing in the original post\n",
    "import tech.tablesaw.plotly.api.*;\n",
    "import tech.tablesaw.plotly.components.*;\n",
    "\n",
    "String[] animals = {\"bear\", \"cat\", \"giraffe\"};\n",
    "double[] cuteness = {90.1, 84.3, 99.7};\n",
    "\n",
    "Table cuteAnimals = Table.create(\"Cute Animals\")\n",
    "    .addColumns(\n",
    "        StringColumn.create(\"Animal types\", animals),\n",
    "        DoubleColumn.create(\"rating\", cuteness)\n",
    "    );\n",
    "\n",
    "Figure figure = AreaPlot.create(\"Cute animals\", cuteAnimals, \"Animal types\", \"rating\");\n",
    "\n",
    "display(figure);"
   ]
  }
 ],
 "metadata": {
  "kernelspec": {
   "display_name": "java (Experimental JBang/j!)",
   "language": "java",
   "name": "jbang-jbang"
  },
  "language_info": {
   "codemirror_mode": "java",
   "file_extension": ".jshell",
   "mimetype": "text/x-java-source",
   "name": "Java",
   "pygments_lexer": "java",
   "version": "25+36-LTS"
  }
 },
 "nbformat": 4,
 "nbformat_minor": 4
}
