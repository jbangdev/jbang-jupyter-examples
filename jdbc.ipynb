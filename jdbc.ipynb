{
 "cells": [
  {
   "cell_type": "code",
   "execution_count": null,
   "id": "03cffd05",
   "metadata": {},
   "outputs": [],
   "source": [
    "// DEPS io.roastedroot:sqlite4j:LATEST\n",
    "//DEPS org.xerial:sqlite-jdbc:3.50.3.0"
   ]
  },
  {
   "cell_type": "code",
   "execution_count": null,
   "id": "eec00992",
   "metadata": {},
   "outputs": [],
   "source": [
    "import java.sql.*;\n",
    "import static java.lang.IO.*;\n",
    "\n",
    "var config = new SQLiteConfig();\n",
    "config\n",
    "// NOTE: Connection and Statement are AutoCloseable.\n",
    "//       Don't forget to close them both in order to avoid leaks.\n",
    "try\n",
    "( // create a database connection\n",
    "  var connection = DriverManager.getConnection(\"jdbc:sqlite:jdbc.db\");\n",
    "  var statement = connection.createStatement();) {\n",
    "\n",
    "  statement.executeUpdate(\"drop table if exists person\");\n",
    "  statement.executeUpdate(\"create table person (id integer, name string)\");\n",
    "  statement.executeUpdate(\"insert into person values(1, 'leo')\");\n",
    "  statement.executeUpdate(\"insert into person values(2, 'yui')\");\n",
    "  ResultSet rs = statement.executeQuery(\"select * from person\");\n",
    "  while(rs.next())\n",
    "  {\n",
    "    println(\"name = \" + rs.getString(\"name\"));\n",
    "    println(\"id = \" + rs.getInt(\"id\"));\n",
    "  }\n",
    "\n",
    "}\n"
   ]
  }
 ],
 "metadata": {
  "kernelspec": {
   "display_name": "java (Experimental JBang/j!)",
   "language": "java",
   "name": "jbang-jbang"
  },
  "language_info": {
   "codemirror_mode": "java",
   "file_extension": ".jshell",
   "mimetype": "text/x-java-source",
   "name": "java",
   "pygments_lexer": "java",
   "version": "25+37-LTS-jvmci-b01"
  }
 },
 "nbformat": 4,
 "nbformat_minor": 5
}
