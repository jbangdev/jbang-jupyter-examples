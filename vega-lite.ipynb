{
 "cells": [
  {
   "cell_type": "markdown",
   "metadata": {},
   "source": [
    "# Vega Lite\n",
    "\n",
    "\n",
    "Using smile-plot/vega that can generate Vega-Lite json you can return the json string with the right mime type to have it rendered."
   ]
  },
  {
   "cell_type": "code",
   "execution_count": null,
   "metadata": {
    "vscode": {
     "languageId": "java"
    }
   },
   "outputs": [],
   "source": [
    "//DEPS com.github.haifengl:smile-plot:4.3.0\n",
    "// fyi: smile is GPL with no classpath exception.\n",
    "\n",
    "import java.lang.Math.*;\n",
    "//import smile.*;\n",
    "//import smile.json.*;\n",
    "import smile.plot.vega.*;\n"
   ]
  },
  {
   "cell_type": "code",
   "execution_count": null,
   "metadata": {
    "vscode": {
     "languageId": "java"
    }
   },
   "outputs": [],
   "source": [
    "var bar = new View(\"Simple Bar Plot\")\n",
    "        .description(\"A simple bar chart with embedded data.\")\n",
    "        .widthStep(30);\n",
    "bar.background(null);\n",
    "bar.data().values(\"\"\"\n",
    "        [\n",
    "          {\"a\": \"A\", \"b\": 28}, {\"a\": \"B\", \"b\": 55}, {\"a\": \"C\", \"b\": 43},\n",
    "          {\"a\": \"D\", \"b\": 91}, {\"a\": \"E\", \"b\": 81}, {\"a\": \"F\", \"b\": 53},\n",
    "          {\"a\": \"G\", \"b\": 19}, {\"a\": \"H\", \"b\": 87}, {\"a\": \"I\", \"b\": 52}\n",
    "        ]\"\"\");\n",
    "\n",
    "bar.mark(\"bar\");\n",
    "Field x = bar.encode(\"x\", \"a\").type(\"ordinal\");\n",
    "x.axis().labelAngle(30);\n",
    "bar.encode(\"y\", \"b\").type(\"quantitative\");\n",
    "\n",
    "display(bar.toPrettyString(), \"application/vnd.vegalite.v5+json\");"
   ]
  }
 ],
 "metadata": {
  "kernelspec": {
   "display_name": "java (Experimental JBang/j!)",
   "language": "java",
   "name": "jbang-jbang"
  },
  "language_info": {
   "codemirror_mode": "java",
   "file_extension": ".jshell",
   "mimetype": "text/x-java-source",
   "name": "Java",
   "pygments_lexer": "java",
   "version": "25+36-LTS"
  }
 },
 "nbformat": 4,
 "nbformat_minor": 4
}
