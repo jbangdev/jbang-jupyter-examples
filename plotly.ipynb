{
 "cells": [
  {
   "cell_type": "markdown",
   "metadata": {},
   "source": [
    "# Plotly\n",
    "\n",
    "\n",
    "Plotly has a Java sdk via JTableSaw project."
   ]
  },
  {
   "cell_type": "code",
   "execution_count": null,
   "metadata": {
    "vscode": {
     "languageId": "java"
    }
   },
   "outputs": [],
   "source": [
    "//DEPS tech.tablesaw:tablesaw-jsplot:RELEASE\n",
    "\n",
    "import tech.tablesaw.plotly.*;\n",
    "import tech.tablesaw.plotly.api.*;\n",
    "import tech.tablesaw.plotly.components.*;\n",
    "import tech.tablesaw.plotly.traces.*;\n"
   ]
  },
  {
   "cell_type": "code",
   "execution_count": null,
   "metadata": {
    "vscode": {
     "languageId": "java"
    }
   },
   "outputs": [],
   "source": [
    "import org.dflib.jjava.jupyter.kernel.display.mime.MIMEType;\n",
    "\n",
    "kernel().getRenderer().createRegistration(tech.tablesaw.plotly.components.Figure.class)\n",
    "\t\t.preferring(MIMEType.TEXT_HTML).register((figure, ctx) -> {\n",
    "\t\t\tctx.renderIfRequested(MIMEType.TEXT_HTML, () -> {\n",
    "\t\t\t\tString id = UUID.randomUUID().toString().replace(\"-\", \"\");\n",
    "\t\t\t\tboolean plotImage = System.getenv().containsKey(\"D2L_PLOT_IMAGE\");\n",
    "\n",
    "\t\t\t\tfigure.asJavascript(id);\n",
    "\t\t\t\tMap<String, Object> context = figure.getContext();\n",
    "\t\t\t\tStringBuilder html = new StringBuilder();\n",
    "\t\t\t\thtml.append(\"<div id=\\\"\").append(id).append(\"\\\"></div>\\n\");\n",
    "\t\t\t\thtml.append(\"<script src=\\\"https://cdn.plot.ly/plotly-3.1.0.min.js\\\"></script>\\n\");\n",
    "\t\t\t\thtml.append(\"<script>\\n\");\n",
    "\t\t\t\tif (!plotImage) {\n",
    "\t\t\t\t\thtml.append(\"var \").append(context.get(\"targetName\")).append(\" = document.getElementById('\")\n",
    "\t\t\t\t\t\t\t.append(id).append(\"');\\n\");\n",
    "\t\t\t\t} else {\n",
    "\t\t\t\t\thtml.append(\"var \").append(context.get(\"targetName\"))\n",
    "\t\t\t\t\t\t\t.append(\" = document.createElement('div');\\n\");\n",
    "\t\t\t\t\thtml.append(\"var \").append(context.get(\"targetName\") + \"_img\")\n",
    "\t\t\t\t\t\t\t.append(\" = document.getElementById('\").append(id).append(\"_img');\\n\");\n",
    "\t\t\t\t\tString plotFunction = (String) context.get(\"plotFunction\");\n",
    "\t\t\t\t\tString imgExt = \".then(function(gd){ Plotly.toImage(gd).then(function(url){ \"\n",
    "\t\t\t\t\t\t\t+ context.get(\"targetName\") + \"_img.src = url; }); });\";\n",
    "\t\t\t\t\tcontext.put(\"plotFunction\", plotFunction.substring(0, plotFunction.length() - 1) + imgExt);\n",
    "\t\t\t\t}\n",
    "\t\t\t\thtml.append(context.get(\"figure\")).append('\\n'); // your JS that defines data/layout/config\n",
    "\t\t\t\thtml.append(context.get(\"plotFunction\")).append('\\n'); // should call Plotly.newPlot(...)\n",
    "\t\t\t\thtml.append(\"</script>\\n\");\n",
    "\n",
    "\t\t\t\treturn html.toString();\n",
    "\t\t\t});\n",
    "\t\t});"
   ]
  },
  {
   "cell_type": "code",
   "execution_count": null,
   "metadata": {
    "vscode": {
     "languageId": "java"
    }
   },
   "outputs": [],
   "source": [
    "import tech.tablesaw.api.*; // EDIT this import was missing in the original post\n",
    "import tech.tablesaw.plotly.api.*;\n",
    "import tech.tablesaw.plotly.components.*;\n",
    "\n",
    "String[] animals = {\"bear\", \"cat\", \"giraffe\"};\n",
    "double[] cuteness = {90.1, 84.3, 99.7};\n",
    "\n",
    "Table cuteAnimals = Table.create(\"Cute Animals\")\n",
    "    .addColumns(\n",
    "        StringColumn.create(\"Animal types\", animals),\n",
    "        DoubleColumn.create(\"rating\", cuteness)\n",
    "    );\n",
    "\n",
    "Figure figure = AreaPlot.create(\"Cute animals\", cuteAnimals, \"Animal types\", \"rating\");\n",
    "\n",
    "display(figure);"
   ]
  }
 ],
 "metadata": {
  "kernelspec": {
   "display_name": "java (Experimental JBang/j!)",
   "language": "java",
   "name": "jbang-jbang"
  },
  "language_info": {
   "codemirror_mode": "java",
   "file_extension": ".jshell",
   "mimetype": "text/x-java-source",
   "name": "Java",
   "pygments_lexer": "java",
   "version": "19.0.2+7-FR"
  }
 },
 "nbformat": 4,
 "nbformat_minor": 4
}
