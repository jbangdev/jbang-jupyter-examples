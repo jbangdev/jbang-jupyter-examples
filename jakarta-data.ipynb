{
 "cells": [
  {
   "cell_type": "markdown",
   "id": "1be69a69",
   "metadata": {},
   "source": [
    "# Jakarta Data Demo\n",
    "\n",
    "Loosly based on https://github.com/gavinking/data-demo"
   ]
  },
  {
   "cell_type": "code",
   "execution_count": 4,
   "id": "92fdbd49",
   "metadata": {
    "vscode": {
     "languageId": "java"
    }
   },
   "outputs": [
    {
     "name": "stdout",
     "output_type": "stream",
     "text": [
      "Output: {\n",
      "  \"originalResource\": \"-\",\n",
      "  \"backingResource\": \"/Users/max/.jbang/cache/stdins/b03fa5ff4f14014e04c5b3b0dbff1ede5f6a29d345c133479a5c5e2b207284bb/b03fa5ff4f14014e04c5b3b0dbff1ede5f6a29d345c133479a5c5e2b207284bb.jsh\",\n",
      "  \"dependencies\": [\n",
      "    \"com.h2database:h2:2.3.232\",\n",
      "    \"jakarta.data:jakarta.data-api:1.0.1\",\n",
      "    \"org.hibernate.orm:hibernate-core:7.0.2.Final\",\n",
      "    \"org.hibernate.orm:hibernate-jpamodelgen:7.0.2.Final\"\n",
      "  ],\n",
      "  \"resolvedDependencies\": [\n",
      "    \"/Users/max/.m2/repository/com/h2database/h2/2.3.232/h2-2.3.232.jar\",\n",
      "    \"/Users/max/.m2/repository/jakarta/data/jakarta.data-api/1.0.1/jakarta.data-api-1.0.1.jar\",\n",
      "    \"/Users/max/.m2/repository/org/hibernate/orm/hibernate-core/7.0.2.Final/hibernate-core-7.0.2.Final.jar\",\n",
      "    \"/Users/max/.m2/repository/jakarta/persistence/jakarta.persistence-api/3.2.0/jakarta.persistence-api-3.2.0.jar\",\n",
      "    \"/Users/max/.m2/repository/jakarta/transaction/jakarta.transaction-api/2.0.1/jakarta.transaction-api-2.0.1.jar\",\n",
      "    \"/Users/max/.m2/repository/org/jboss/logging/jboss-logging/3.6.1.Final/jboss-logging-3.6.1.Final.jar\",\n",
      "    \"/Users/max/.m2/repository/org/hibernate/models/hibernate-models/1.0.0/hibernate-models-1.0.0.jar\",\n",
      "    \"/Users/max/.m2/repository/com/fasterxml/classmate/1.7.0/classmate-1.7.0.jar\",\n",
      "    \"/Users/max/.m2/repository/net/bytebuddy/byte-buddy/1.15.11/byte-buddy-1.15.11.jar\",\n",
      "    \"/Users/max/.m2/repository/jakarta/xml/bind/jakarta.xml.bind-api/4.0.2/jakarta.xml.bind-api-4.0.2.jar\",\n",
      "    \"/Users/max/.m2/repository/jakarta/activation/jakarta.activation-api/2.1.3/jakarta.activation-api-2.1.3.jar\",\n",
      "    \"/Users/max/.m2/repository/org/glassfish/jaxb/jaxb-runtime/4.0.5/jaxb-runtime-4.0.5.jar\",\n",
      "    \"/Users/max/.m2/repository/org/glassfish/jaxb/jaxb-core/4.0.5/jaxb-core-4.0.5.jar\",\n",
      "    \"/Users/max/.m2/repository/org/eclipse/angus/angus-activation/2.0.2/angus-activation-2.0.2.jar\",\n",
      "    \"/Users/max/.m2/repository/org/glassfish/jaxb/txw2/4.0.5/txw2-4.0.5.jar\",\n",
      "    \"/Users/max/.m2/repository/com/sun/istack/istack-commons-runtime/4.1.2/istack-commons-runtime-4.1.2.jar\",\n",
      "    \"/Users/max/.m2/repository/jakarta/inject/jakarta.inject-api/2.0.1/jakarta.inject-api-2.0.1.jar\",\n",
      "    \"/Users/max/.m2/repository/org/antlr/antlr4-runtime/4.13.2/antlr4-runtime-4.13.2.jar\",\n",
      "    \"/Users/max/.m2/repository/org/hibernate/orm/hibernate-processor/7.0.2.Final/hibernate-processor-7.0.2.Final.jar\",\n",
      "    \"/Users/max/.m2/repository/io/smallrye/jandex/3.3.0/jandex-3.3.0.jar\",\n",
      "    \"/Users/max/.m2/repository/jakarta/validation/jakarta.validation-api/3.1.0/jakarta.validation-api-3.1.0.jar\",\n",
      "    \"/Users/max/.m2/repository/jakarta/annotation/jakarta.annotation-api/3.0.0/jakarta.annotation-api-3.0.0.jar\"\n",
      "  ],\n",
      "  \"availableJdkPath\": \"/Users/max/.local/share/mise/installs/java/temurin-23.0.2+7\",\n",
      "  \"compileOptions\": [\n",
      "    \"-g\",\n",
      "    \"-parameters\"\n",
      "  ],\n",
      "  \"sources\": [\n",
      "    {\n",
      "      \"originalResource\": \"-\",\n",
      "      \"backingResource\": \"/Users/max/.jbang/cache/stdins/b03fa5ff4f14014e04c5b3b0dbff1ede5f6a29d345c133479a5c5e2b207284bb/b03fa5ff4f14014e04c5b3b0dbff1ede5f6a29d345c133479a5c5e2b207284bb.jsh\"\n",
      "    }\n",
      "  ],\n",
      "  \"docs\": {}\n",
      "}\n",
      "\n",
      "Adding to classpath: [/Users/max/.m2/repository/com/h2database/h2/2.3.232/h2-2.3.232.jar, /Users/max/.m2/repository/jakarta/data/jakarta.data-api/1.0.1/jakarta.data-api-1.0.1.jar, /Users/max/.m2/repository/org/hibernate/orm/hibernate-core/7.0.2.Final/hibernate-core-7.0.2.Final.jar, /Users/max/.m2/repository/jakarta/persistence/jakarta.persistence-api/3.2.0/jakarta.persistence-api-3.2.0.jar, /Users/max/.m2/repository/jakarta/transaction/jakarta.transaction-api/2.0.1/jakarta.transaction-api-2.0.1.jar, /Users/max/.m2/repository/org/jboss/logging/jboss-logging/3.6.1.Final/jboss-logging-3.6.1.Final.jar, /Users/max/.m2/repository/org/hibernate/models/hibernate-models/1.0.0/hibernate-models-1.0.0.jar, /Users/max/.m2/repository/com/fasterxml/classmate/1.7.0/classmate-1.7.0.jar, /Users/max/.m2/repository/net/bytebuddy/byte-buddy/1.15.11/byte-buddy-1.15.11.jar, /Users/max/.m2/repository/jakarta/xml/bind/jakarta.xml.bind-api/4.0.2/jakarta.xml.bind-api-4.0.2.jar, /Users/max/.m2/repository/jakarta/activation/jakarta.activation-api/2.1.3/jakarta.activation-api-2.1.3.jar, /Users/max/.m2/repository/org/glassfish/jaxb/jaxb-runtime/4.0.5/jaxb-runtime-4.0.5.jar, /Users/max/.m2/repository/org/glassfish/jaxb/jaxb-core/4.0.5/jaxb-core-4.0.5.jar, /Users/max/.m2/repository/org/eclipse/angus/angus-activation/2.0.2/angus-activation-2.0.2.jar, /Users/max/.m2/repository/org/glassfish/jaxb/txw2/4.0.5/txw2-4.0.5.jar, /Users/max/.m2/repository/com/sun/istack/istack-commons-runtime/4.1.2/istack-commons-runtime-4.1.2.jar, /Users/max/.m2/repository/jakarta/inject/jakarta.inject-api/2.0.1/jakarta.inject-api-2.0.1.jar, /Users/max/.m2/repository/org/antlr/antlr4-runtime/4.13.2/antlr4-runtime-4.13.2.jar, /Users/max/.m2/repository/org/hibernate/orm/hibernate-processor/7.0.2.Final/hibernate-processor-7.0.2.Final.jar, /Users/max/.m2/repository/io/smallrye/jandex/3.3.0/jandex-3.3.0.jar, /Users/max/.m2/repository/jakarta/validation/jakarta.validation-api/3.1.0/jakarta.validation-api-3.1.0.jar, /Users/max/.m2/repository/jakarta/annotation/jakarta.annotation-api/3.0.0/jakarta.annotation-api-3.0.0.jar]\n"
     ]
    }
   ],
   "source": [
    "//DEPS com.h2database:h2:2.3.232\n",
    "//DEPS jakarta.data:jakarta.data-api:1.0.1\n",
    "//DEPS org.hibernate.orm:hibernate-core:7.0.2.Final\n",
    "//DEPS org.hibernate.orm:hibernate-jpamodelgen:7.0.2.Final\n",
    "\n"
   ]
  },
  {
   "cell_type": "code",
   "execution_count": 5,
   "id": "2268680a",
   "metadata": {
    "vscode": {
     "languageId": "java"
    }
   },
   "outputs": [],
   "source": [
    "import jakarta.persistence.Entity;\n",
    "import jakarta.persistence.Id;\n",
    "import jakarta.persistence.GeneratedValue;\n",
    "import jakarta.persistence.GenerationType;\n",
    "\n",
    "@Entity\n",
    "class Book {\n",
    "    @Id\n",
    "    @GeneratedValue(strategy = GenerationType.IDENTITY)\n",
    "    private Long id;\n",
    "\n",
    "    private String title;\n",
    "    private String author;\n",
    "}\n"
   ]
  },
  {
   "cell_type": "code",
   "execution_count": null,
   "id": "d84ca23d",
   "metadata": {
    "vscode": {
     "languageId": "java"
    }
   },
   "outputs": [
    {
     "ename": "CompilationException",
     "evalue": "[snippet: [package moel;\n\nimport jakarta.data.repository.*;\n\n@Repository\npublic interface Library {\n\n    @Insert\n    void addBook(Book book);\n\n    @Query(\"where title like :title\")\n    List<Book> findByTitle(String title);\n    \n}], status: REJECTED]",
     "output_type": "error",
     "traceback": [
      "\u001b[39m\u001b[1m|   \u001b[39m\u001b[1m\u001b[0m\u001b[39m\u001b[1m\u001b[41m\u001b[0m\u001b[39m\u001b[1mpackage moel;\u001b[0m",
      "\u001b[1m\u001b[31millegal start of expression\u001b[0m",
      ""
     ]
    }
   ],
   "source": [
    "\n",
    "import jakarta.data.repository.*;\n",
    "\n",
    "@Repository\n",
    "public interface Library {\n",
    "\n",
    "    @Insert\n",
    "    void addBook(Book book);\n",
    "\n",
    "    @Query(\"where title like :title\")\n",
    "    List<Book> findByTitle(String title);\n",
    "    \n",
    "}"
   ]
  },
  {
   "cell_type": "code",
   "execution_count": 17,
   "id": "2a65dfd9",
   "metadata": {
    "vscode": {
     "languageId": "java"
    }
   },
   "outputs": [
    {
     "ename": "CompilationException",
     "evalue": "[snippet: [try (var sessionFactory = config.createEntityManagerFactory()) {\n    var schemaManager = sessionFactory.getSchemaManager();\n    schemaManager.drop(true);\n    schemaManager.create(true);\n\n    sessionFactory.inStatelessSession(session -> {\n        // repository is usually injected via CDI,\n        // but here we just instantiate it\n        final Library library = new Library_(session);\n\n        // load a Book\n        var book = library.book(\"9781932394153\");\n        out.println(book);\n    });\n}], status: REJECTED]",
     "output_type": "error",
     "traceback": [
      "\u001b[39m\u001b[1m|   \u001b[39m\u001b[1m        final Library library = new \u001b[0m\u001b[39m\u001b[1m\u001b[41mLibrary_\u001b[0m\u001b[39m\u001b[1m(session);\u001b[0m",
      "\u001b[1m\u001b[31mcannot find symbol\u001b[0m",
      "\u001b[1m\u001b[31m  symbol:   class Library_\u001b[0m",
      "",
      "\u001b[39m\u001b[1m|   \u001b[39m\u001b[1m        var book = \u001b[0m\u001b[39m\u001b[1m\u001b[41mlibrary.book\u001b[0m\u001b[39m\u001b[1m(\"9781932394153\");\u001b[0m",
      "\u001b[1m\u001b[31mcannot find symbol\u001b[0m",
      "\u001b[1m\u001b[31m  symbol:   method book(java.lang.String)\u001b[0m",
      "",
      "\u001b[39m\u001b[1m|   \u001b[39m\u001b[1m        \u001b[0m\u001b[39m\u001b[1m\u001b[41mout\u001b[0m\u001b[39m\u001b[1m.println(book);\u001b[0m",
      "\u001b[1m\u001b[31mcannot find symbol\u001b[0m",
      "\u001b[1m\u001b[31m  symbol:   variable out\u001b[0m",
      ""
     ]
    }
   ],
   "source": [
    "import org.hibernate.jpa.HibernatePersistenceConfiguration;\n",
    "\n",
    "var config = new HibernatePersistenceConfiguration(\"Jakarta Data Example\")\n",
    ".managedClasses(Book.class)\n",
    ".property(\"hibernate.dialect\", \"org.hibernate.dialect.H2Dialect\")\n",
    ".property(\"hibernate.connection.url\", \"jdbc:h2:mem:test\")\n",
    ".property(\"hibernate.connection.username\", \"sa\")\n",
    ".property(\"hibernate.connection.password\", \"\");\n",
    "\n",
    "try (var sessionFactory = config.createEntityManagerFactory()) {\n",
    "    var schemaManager = sessionFactory.getSchemaManager();\n",
    "    schemaManager.drop(true);\n",
    "    schemaManager.create(true);\n",
    "\n",
    "    sessionFactory.inStatelessSession(session -> {\n",
    "        // repository is usually injected via CDI,\n",
    "        // but here we just instantiate it\n",
    "        final Library library = new Library_(session);\n",
    "\n",
    "        // load a Book\n",
    "        var book = library.book(\"9781932394153\");\n",
    "        out.println(book);\n",
    "    });\n",
    "}\n",
    "\n",
    "\n"
   ]
  }
 ],
 "metadata": {
  "kernelspec": {
   "display_name": "java (Experimental JBang/j!)",
   "language": "java",
   "name": "jbang-jbang"
  },
  "language_info": {
   "codemirror_mode": "java",
   "file_extension": ".jshell",
   "mimetype": "text/x-java-source",
   "name": "Java",
   "pygments_lexer": "java",
   "version": "23.0.2+7"
  }
 },
 "nbformat": 4,
 "nbformat_minor": 5
}
