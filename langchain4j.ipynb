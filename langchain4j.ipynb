{
 "cells": [
  {
   "cell_type": "markdown",
   "metadata": {},
   "source": [
    "# Langchain4j example\n",
    "\n",
    "Start by adding the dependencies."
   ]
  },
  {
   "cell_type": "code",
   "execution_count": 2,
   "metadata": {
    "vscode": {
     "languageId": "java"
    }
   },
   "outputs": [
    {
     "name": "stdout",
     "output_type": "stream",
     "text": [
      "Adding to classpath: [/Users/max/.m2/repository/dev/langchain4j/langchain4j-open-ai/1.0.0/langchain4j-open-ai-1.0.0.jar, /Users/max/.m2/repository/dev/langchain4j/langchain4j-core/1.0.0/langchain4j-core-1.0.0.jar, /Users/max/.m2/repository/org/jspecify/jspecify/1.0.0/jspecify-1.0.0.jar, /Users/max/.m2/repository/dev/langchain4j/langchain4j-http-client/1.0.0/langchain4j-http-client-1.0.0.jar, /Users/max/.m2/repository/dev/langchain4j/langchain4j-http-client-jdk/1.0.0/langchain4j-http-client-jdk-1.0.0.jar, /Users/max/.m2/repository/com/fasterxml/jackson/core/jackson-annotations/2.19.0/jackson-annotations-2.19.0.jar, /Users/max/.m2/repository/com/fasterxml/jackson/core/jackson-core/2.19.0/jackson-core-2.19.0.jar, /Users/max/.m2/repository/com/fasterxml/jackson/core/jackson-databind/2.19.0/jackson-databind-2.19.0.jar, /Users/max/.m2/repository/com/knuddels/jtokkit/1.1.0/jtokkit-1.1.0.jar, /Users/max/.m2/repository/dev/langchain4j/langchain4j/1.0.0/langchain4j-1.0.0.jar, /Users/max/.m2/repository/org/apache/opennlp/opennlp-tools/2.5.4/opennlp-tools-2.5.4.jar, /Users/max/.m2/repository/org/slf4j/slf4j-api/2.0.17/slf4j-api-2.0.17.jar, /Users/max/.m2/repository/org/slf4j/slf4j-simple/2.0.17/slf4j-simple-2.0.17.jar, /Users/max/.m2/repository/io/github/cdimascio/dotenv-java/3.2.0/dotenv-java-3.2.0.jar]\n"
     ]
    }
   ],
   "source": [
    "//DEPS dev.langchain4j:langchain4j-open-ai:1.0.0\n",
    "//DEPS dev.langchain4j:langchain4j:1.0.0\n",
    "//DEPS org.slf4j:slf4j-simple:2.0.17\n",
    "\n",
    "//DEPS io.github.cdimascio:dotenv-java:3.2.0\n"
   ]
  },
  {
   "cell_type": "markdown",
   "metadata": {},
   "source": [
    "## Setup env to get API secrets"
   ]
  },
  {
   "cell_type": "code",
   "execution_count": 11,
   "metadata": {
    "vscode": {
     "languageId": "java"
    }
   },
   "outputs": [],
   "source": [
    "import static java.lang.IO.*;\n",
    "import java.nio.file.*;\n",
    "import io.github.cdimascio.dotenv.Dotenv;\n",
    "\n",
    "if(!Files.exists(Paths.get(\"env.properties\"))) {\n",
    "    println(\"env.properties not found, please create it and add OPENAI_API_KEY\");\n",
    "}\n",
    "\n",
    "var env = Dotenv.configure().ignoreIfMissing().filename(\"env.properties\").load();\n",
    "var apiKey = env.get(\"OPENAI_API_KEY\");"
   ]
  },
  {
   "cell_type": "markdown",
   "metadata": {
    "vscode": {
     "languageId": "java"
    }
   },
   "source": [
    "Setup language model:"
   ]
  },
  {
   "cell_type": "code",
   "execution_count": 12,
   "metadata": {
    "vscode": {
     "languageId": "java"
    }
   },
   "outputs": [],
   "source": [
    "import dev.langchain4j.model.openai.OpenAiChatModel;\n",
    "import static java.time.Duration.ofSeconds;\n",
    "import dev.langchain4j.agent.tool.Tool;\n",
    "import dev.langchain4j.service.AiServices;\n",
    "import dev.langchain4j.memory.chat.MessageWindowChatMemory;\n",
    "\n",
    "var chatModel = OpenAiChatModel.builder()\n",
    "                .apiKey(apiKey)\n",
    "                .modelName(\"gpt-4o-mini\")\n",
    "                .temperature(0.0)\n",
    "                .timeout(ofSeconds(60))\n",
    "                .build();\n",
    "\n",
    "interface Assistant {\n",
    "    String chat(String message);\n",
    "}\n",
    "\n",
    "var ai = AiServices.builder(Assistant.class)\n",
    "                .chatModel(chatModel)\n",
    "                .chatMemory(MessageWindowChatMemory.withMaxMessages(20))\n",
    "                .build();"
   ]
  },
  {
   "cell_type": "markdown",
   "metadata": {},
   "source": [
    "Lets talk with the AI:"
   ]
  },
  {
   "cell_type": "code",
   "execution_count": 45,
   "metadata": {
    "vscode": {
     "languageId": "java"
    }
   },
   "outputs": [
    {
     "data": {
      "text/html": [
       "```html\n",
       "<p style=\"color: #FF6F61; font-size: 20px; font-family: 'Verdana', sans-serif; background-color: #FFF3E0; padding: 15px; border-radius: 10px; text-align: center;\">\n",
       "    🌟 Welcome to the world of <strong style=\"color: #FF8C00;\">creativity</strong>! 🌈<br>\n",
       "    Here, ideas bloom like flowers in spring. 🌸<br>\n",
       "    <span style=\"display: inline-block; animation: bounce 1s infinite;\">✨</span>\n",
       "    <span style=\"display: inline-block; animation: bounce 1s infinite; animation-delay: 0.2s;\">💡</span>\n",
       "    <span style=\"display: inline-block; animation: bounce 1s infinite; animation-delay: 0.4s;\">🎨</span>\n",
       "    <br>\n",
       "    Let's create something beautiful together! 🌻\n",
       "</p>\n",
       "\n",
       "<style>\n",
       "    @keyframes bounce {\n",
       "        0%, 20%, 50%, 80%, 100% {\n",
       "            transform: translateY(0);\n",
       "        }\n",
       "        40% {\n",
       "            transform: translateY(-20px);\n",
       "        }\n",
       "        60% {\n",
       "            transform: translateY(-10px);\n",
       "        }\n",
       "    }\n",
       "</style>\n",
       "```"
      ],
      "text/plain": [
       "```html\n",
       "<p style=\"color: #FF6F61; font-size: 20px; font-family: 'Verdana', sans-serif; background-color: #FFF3E0; padding: 15px; border-radius: 10px; text-align: center;\">\n",
       "    🌟 Welcome to the world of <strong style=\"color: #FF8C00;\">creativity</strong>! 🌈<br>\n",
       "    Here, ideas bloom like flowers in spring. 🌸<br>\n",
       "    <span style=\"display: inline-block; animation: bounce 1s infinite;\">✨</span>\n",
       "    <span style=\"display: inline-block; animation: bounce 1s infinite; animation-delay: 0.2s;\">💡</span>\n",
       "    <span style=\"display: inline-block; animation: bounce 1s infinite; animation-delay: 0.4s;\">🎨</span>\n",
       "    <br>\n",
       "    Let's create something beautiful together! 🌻\n",
       "</p>\n",
       "\n",
       "<style>\n",
       "    @keyframes bounce {\n",
       "        0%, 20%, 50%, 80%, 100% {\n",
       "            transform: translateY(0);\n",
       "        }\n",
       "        40% {\n",
       "            transform: translateY(-20px);\n",
       "        }\n",
       "        60% {\n",
       "            transform: translateY(-10px);\n",
       "        }\n",
       "    }\n",
       "</style>\n",
       "```"
      ]
     },
     "metadata": {},
     "output_type": "display_data"
    },
    {
     "data": {
      "text/plain": [
       "0c463db1-c39e-461f-8018-9358e110a9f3"
      ]
     },
     "execution_count": 45,
     "metadata": {},
     "output_type": "execute_result"
    }
   ],
   "source": [
    "display(ai.chat(\"generate a nice html paragraph with some nice colors and words, emojis and something moving/animating. only return the html, no other text\"),\"text/html\");\n"
   ]
  },
  {
   "cell_type": "markdown",
   "metadata": {},
   "source": [
    "## LLM's has limits\n",
    "\n",
    "For example if we ask it to report how many letters are in a word, it will most likely not get it right."
   ]
  },
  {
   "cell_type": "code",
   "execution_count": 28,
   "metadata": {
    "vscode": {
     "languageId": "java"
    }
   },
   "outputs": [
    {
     "data": {
      "text/plain": [
       "The word \"strawberry\" contains 2 \"r's.\""
      ]
     },
     "execution_count": 28,
     "metadata": {},
     "output_type": "execute_result"
    }
   ],
   "source": [
    "ai.chat(\"how many r's are in in the word 'strawberry'?\");"
   ]
  },
  {
   "cell_type": "markdown",
   "metadata": {},
   "source": [
    "## Use a tool\n",
    "\n",
    "Lets make a class that has methods that can be used as tools, i.e. to use for counting characters in a word."
   ]
  },
  {
   "cell_type": "code",
   "execution_count": null,
   "metadata": {
    "vscode": {
     "languageId": "java"
    }
   },
   "outputs": [
    {
     "name": "stdout",
     "output_type": "stream",
     "text": [
      "countOccurrences: strawberry r\n"
     ]
    },
    {
     "data": {
      "text/plain": [
       "3"
      ]
     },
     "execution_count": 39,
     "metadata": {},
     "output_type": "execute_result"
    }
   ],
   "source": [
    "public class Tools {\n",
    "   \n",
    "    @Tool\n",
    "    public long countOccurrences(String word, String character) {\n",
    "        println(\"countOccurrences: \" + word + \" \" + character); // put here so we can see the tool is called\n",
    "        return word.chars().filter(c -> c == character.charAt(0)).count();\n",
    "    }\n",
    "}\n",
    "\n",
    "new Tools().countOccurrences(\"strawberry\", \"r\");"
   ]
  },
  {
   "cell_type": "code",
   "execution_count": 41,
   "metadata": {
    "vscode": {
     "languageId": "java"
    }
   },
   "outputs": [],
   "source": [
    "var ai = AiServices.builder(Assistant.class)\n",
    "                .chatModel(chatModel)\n",
    "                .chatMemory(MessageWindowChatMemory.withMaxMessages(20))\n",
    "                .tools(new Tools())\n",
    "                .build();"
   ]
  },
  {
   "cell_type": "markdown",
   "metadata": {},
   "source": [
    "Now lets ask again..."
   ]
  },
  {
   "cell_type": "code",
   "execution_count": 43,
   "metadata": {
    "vscode": {
     "languageId": "java"
    }
   },
   "outputs": [
    {
     "data": {
      "text/plain": [
       "There are 3 'r's in the word \"strawberry.\""
      ]
     },
     "execution_count": 43,
     "metadata": {},
     "output_type": "execute_result"
    }
   ],
   "source": [
    "ai.chat(\"how many r's are in in the word 'strawberry'?\");"
   ]
  }
 ],
 "metadata": {
  "kernelspec": {
   "display_name": "java (Experimental JBang/j!)",
   "language": "java",
   "name": "jbang-jbang"
  },
  "language_info": {
   "codemirror_mode": "java",
   "file_extension": ".jshell",
   "mimetype": "text/x-java-source",
   "name": "Java",
   "pygments_lexer": "java",
   "version": "25+36-LTS"
  }
 },
 "nbformat": 4,
 "nbformat_minor": 2
}
