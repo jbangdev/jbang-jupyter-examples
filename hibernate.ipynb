{
 "cells": [
  {
   "cell_type": "markdown",
   "id": "4de88fb8",
   "metadata": {},
   "source": [
    "# Hibernate Example\n",
    "\n",
    "We'll start by getting h2 database and Hibernate maven dependencies."
   ]
  },
  {
   "cell_type": "code",
   "execution_count": 6,
   "id": "92fdbd49",
   "metadata": {
    "vscode": {
     "languageId": "java"
    }
   },
   "outputs": [
    {
     "data": {
      "text/html": [
       "<style>\n",
       ".jbang-compact { font-family: -apple-system, BlinkMacSystemFont, 'Segoe UI', Roboto, Oxygen, Ubuntu, Cantarell, sans-serif; font-size: 12px; margin: 4px 0; }\n",
       ".jbang-inline { display: inline-block; margin: 0; padding: 0; vertical-align: top; }\n",
       ".jbang-inline summary { display: inline; cursor: pointer; user-select: none; padding: 2px 6px; border-radius: 3px; transition: background 0.15s; }\n",
       ".jbang-inline summary:hover { background: #f1f3f5; }\n",
       ".jbang-inline-content { margin-top: 6px; padding: 8px; background: #f8f9fa; border-radius: 4px; border-left: 2px solid #667eea; }\n",
       ".jbang-inline-new .jbang-inline-content { border-left-color: #10b981; }\n",
       ".jbang-inline-coord .jbang-inline-content { border-left-color: #764ba2; }\n",
       ".jbang-list { list-style: none; padding: 0; margin: 0; font-size: 11px; }\n",
       ".jbang-list-item { padding: 4px 6px; margin: 2px 0; background: white; border-radius: 2px; border-left: 2px solid #667eea; font-family: 'Monaco', 'Menlo', monospace; color: #2d3748; word-break: break-all; cursor: help; }\n",
       ".jbang-list-item:hover { background: #f8f9fa; }\n",
       ".jbang-list-item-new { border-left-color: #10b981; }\n",
       ".jbang-list-item-old { opacity: 0.4; border-left-color: #adb5bd; }\n",
       ".jbang-list-item-old:hover { opacity: 0.6; }\n",
       ".jbang-list-item-coord { border-left-color: #764ba2; cursor: default; }\n",
       "</style>\n",
       "<div class='jbang-compact'>\n",
       "  🚀 JBang: <details class='jbang-inline jbang-inline-coord'><summary title='Requested Maven dependencies (click to expand)'>📦 <strong>2</strong></summary><div class='jbang-inline-content'><ul class='jbang-list'><li class='jbang-list-item jbang-list-item-coord'>com.h2database:h2:2.3.232</li><li class='jbang-list-item jbang-list-item-coord'>org.hibernate.orm:hibernate-core:7.0.2.Final</li></ul></div></details> | <span title='Newly added to classpath'>✨ <strong>0</strong></span> | <details class='jbang-inline'><summary title='All resolved JARs (click to expand, grayed = cached)'>📚 <strong>17</strong></summary><div class='jbang-inline-content'><ul class='jbang-list'><li class='jbang-list-item jbang-list-item-old' title='/Users/max/.m2/repository/com/h2database/h2/2.3.232/h2-2.3.232.jar'>h2-2.3.232.jar</li><li class='jbang-list-item jbang-list-item-old' title='/Users/max/.m2/repository/org/hibernate/orm/hibernate-core/7.0.2.Final/hibernate-core-7.0.2.Final.jar'>hibernate-core-7.0.2.Final.jar</li><li class='jbang-list-item jbang-list-item-old' title='/Users/max/.m2/repository/jakarta/persistence/jakarta.persistence-api/3.2.0/jakarta.persistence-api-3.2.0.jar'>jakarta.persistence-api-3.2.0.jar</li><li class='jbang-list-item jbang-list-item-old' title='/Users/max/.m2/repository/jakarta/transaction/jakarta.transaction-api/2.0.1/jakarta.transaction-api-2.0.1.jar'>jakarta.transaction-api-2.0.1.jar</li><li class='jbang-list-item jbang-list-item-old' title='/Users/max/.m2/repository/org/jboss/logging/jboss-logging/3.6.1.Final/jboss-logging-3.6.1.Final.jar'>jboss-logging-3.6.1.Final.jar</li><li class='jbang-list-item jbang-list-item-old' title='/Users/max/.m2/repository/org/hibernate/models/hibernate-models/1.0.0/hibernate-models-1.0.0.jar'>hibernate-models-1.0.0.jar</li><li class='jbang-list-item jbang-list-item-old' title='/Users/max/.m2/repository/com/fasterxml/classmate/1.7.0/classmate-1.7.0.jar'>classmate-1.7.0.jar</li><li class='jbang-list-item jbang-list-item-old' title='/Users/max/.m2/repository/net/bytebuddy/byte-buddy/1.15.11/byte-buddy-1.15.11.jar'>byte-buddy-1.15.11.jar</li><li class='jbang-list-item jbang-list-item-old' title='/Users/max/.m2/repository/jakarta/xml/bind/jakarta.xml.bind-api/4.0.2/jakarta.xml.bind-api-4.0.2.jar'>jakarta.xml.bind-api-4.0.2.jar</li><li class='jbang-list-item jbang-list-item-old' title='/Users/max/.m2/repository/jakarta/activation/jakarta.activation-api/2.1.3/jakarta.activation-api-2.1.3.jar'>jakarta.activation-api-2.1.3.jar</li><li class='jbang-list-item jbang-list-item-old' title='/Users/max/.m2/repository/org/glassfish/jaxb/jaxb-runtime/4.0.5/jaxb-runtime-4.0.5.jar'>jaxb-runtime-4.0.5.jar</li><li class='jbang-list-item jbang-list-item-old' title='/Users/max/.m2/repository/org/glassfish/jaxb/jaxb-core/4.0.5/jaxb-core-4.0.5.jar'>jaxb-core-4.0.5.jar</li><li class='jbang-list-item jbang-list-item-old' title='/Users/max/.m2/repository/org/eclipse/angus/angus-activation/2.0.2/angus-activation-2.0.2.jar'>angus-activation-2.0.2.jar</li><li class='jbang-list-item jbang-list-item-old' title='/Users/max/.m2/repository/org/glassfish/jaxb/txw2/4.0.5/txw2-4.0.5.jar'>txw2-4.0.5.jar</li><li class='jbang-list-item jbang-list-item-old' title='/Users/max/.m2/repository/com/sun/istack/istack-commons-runtime/4.1.2/istack-commons-runtime-4.1.2.jar'>istack-commons-runtime-4.1.2.jar</li><li class='jbang-list-item jbang-list-item-old' title='/Users/max/.m2/repository/jakarta/inject/jakarta.inject-api/2.0.1/jakarta.inject-api-2.0.1.jar'>jakarta.inject-api-2.0.1.jar</li><li class='jbang-list-item jbang-list-item-old' title='/Users/max/.m2/repository/org/antlr/antlr4-runtime/4.13.2/antlr4-runtime-4.13.2.jar'>antlr4-runtime-4.13.2.jar</li></ul></div></details></div>\n"
      ],
      "text/plain": [
       "JBangInfo{dependencies=2,resolvedDependencies=17,newResolvedDependencies=0}"
      ]
     },
     "metadata": {},
     "output_type": "display_data"
    }
   ],
   "source": [
    "//DEPS com.h2database:h2:2.3.232\n",
    "//DEPS org.hibernate.orm:hibernate-core:7.0.2.Final"
   ]
  },
  {
   "cell_type": "markdown",
   "id": "5cce293e",
   "metadata": {},
   "source": []
  },
  {
   "cell_type": "markdown",
   "id": "71a3f8ce",
   "metadata": {},
   "source": [
    "Now lets define a `Book` entity."
   ]
  },
  {
   "cell_type": "code",
   "execution_count": 7,
   "id": "2268680a",
   "metadata": {
    "vscode": {
     "languageId": "java"
    }
   },
   "outputs": [],
   "source": [
    "import jakarta.persistence.*;\n",
    "\n",
    "@Entity(name = \"Book\")\n",
    "@Table(name = \"books\")\n",
    "class Book {\n",
    "    @Id\n",
    "    @GeneratedValue(strategy = GenerationType.IDENTITY)\n",
    "    public Long id;\n",
    "\n",
    "    public String title;\n",
    "    public String author;\n",
    "\n",
    "    @Override\n",
    "    public String toString() {\n",
    "        return \"Book{\" +\n",
    "                \"id=\" + id +\n",
    "                \", title='\" + title + '\\'' +\n",
    "                \", author='\" + author + '\\'' +\n",
    "                '}';\n",
    "    }\n",
    "}"
   ]
  },
  {
   "cell_type": "markdown",
   "id": "203d3b28",
   "metadata": {},
   "source": [
    "Now we'll setup a Hibernate Configuration that has configuration for h2 database and include the `Book` entity."
   ]
  },
  {
   "cell_type": "code",
   "execution_count": 8,
   "id": "2a65dfd9",
   "metadata": {
    "vscode": {
     "languageId": "java"
    }
   },
   "outputs": [],
   "source": [
    "import org.hibernate.jpa.HibernatePersistenceConfiguration;\n",
    "\n",
    "var config = new HibernatePersistenceConfiguration(\"Jakarta Data Example\")\n",
    ".managedClasses(Book.class)\n",
    ".property(\"hibernate.connection.url\", \"jdbc:h2:mem:test\")\n",
    ".property(\"hibernate.connection.username\", \"sa\")\n",
    ".property(\"hibernate.connection.password\", \"\");\n"
   ]
  },
  {
   "cell_type": "markdown",
   "id": "ffdaa326",
   "metadata": {},
   "source": [
    "Finally we can build a Hibernate SessionFactory and run operations; in this example we use a `StatlessSession` as the simplest way of mapping data to from a database."
   ]
  },
  {
   "cell_type": "code",
   "execution_count": 9,
   "id": "ebddf43d",
   "metadata": {
    "vscode": {
     "languageId": "java"
    }
   },
   "outputs": [
    {
     "name": "stdout",
     "output_type": "stream",
     "text": [
      "Book{id=null, title='The Hobbit', author='J.R.R. Tolkien'}\n",
      "Book added Book{id=1, title='The Hobbit', author='J.R.R. Tolkien'}\n",
      "Book{id=1, title='The Hobbit', author='J.R.R. Tolkien'}\n"
     ]
    }
   ],
   "source": [
    "\n",
    "try (var sessionFactory = config.createEntityManagerFactory()) {\n",
    "    var schemaManager = sessionFactory.getSchemaManager();\n",
    "    schemaManager.drop(true);\n",
    "    schemaManager.create(true);\n",
    "\n",
    "    sessionFactory.inStatelessSession(session -> {\n",
    "        var book = new Book();\n",
    "        book.title = \"The Hobbit\";\n",
    "        book.author = \"J.R.R. Tolkien\";\n",
    "        IO.println(book);\n",
    "        session.insert(book);\n",
    "\n",
    "        IO.println(\"Book added \" + book);\n",
    "\n",
    "        session.createQuery(\"from java.lang.Object\").list();\n",
    "    });\n",
    "\n",
    "    sessionFactory.inSession(session -> {\n",
    "        session.createQuery(\"from Book\").stream().forEach(IO::println);\n",
    "    });\n",
    "\n",
    "\n",
    "}"
   ]
  }
 ],
 "metadata": {
  "kernelspec": {
   "display_name": "java (JBang-dev/j!)",
   "language": "java",
   "name": "jbang-jbangdev"
  },
  "language_info": {
   "codemirror_mode": "java",
   "file_extension": ".jshell",
   "mimetype": "text/x-java-source",
   "name": "Java",
   "pygments_lexer": "java",
   "version": "25+37-LTS-jvmci-b01"
  }
 },
 "nbformat": 4,
 "nbformat_minor": 5
}
