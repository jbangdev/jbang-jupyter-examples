{
 "cells": [
  {
   "cell_type": "code",
   "execution_count": null,
   "id": "92fdbd49",
   "metadata": {},
   "outputs": [],
   "source": [
    "//DEPS com.h2database:h2:2.3.232\n",
    "//DEPS org.hibernate.orm:hibernate-core:7.0.2.Final"
   ]
  },
  {
   "cell_type": "markdown",
   "id": "5cce293e",
   "metadata": {},
   "source": []
  },
  {
   "cell_type": "code",
   "execution_count": null,
   "id": "2268680a",
   "metadata": {},
   "outputs": [],
   "source": [
    "import jakarta.persistence.Entity;\n",
    "import jakarta.persistence.Id;\n",
    "import jakarta.persistence.Table;\n",
    "import jakarta.persistence.GeneratedValue;\n",
    "import jakarta.persistence.GenerationType;\n",
    "\n",
    "@Entity(name = \"Book\")\n",
    "@Table(name = \"books\")\n",
    "class Book {\n",
    "    @Id\n",
    "    @GeneratedValue(strategy = GenerationType.IDENTITY)\n",
    "    public Long id;\n",
    "\n",
    "    public String title;\n",
    "    public String author;\n",
    "\n",
    "    @Override\n",
    "    public String toString() {\n",
    "        return \"Book{\" +\n",
    "                \"id=\" + id +\n",
    "                \", title='\" + title + '\\'' +\n",
    "                \", author='\" + author + '\\'' +\n",
    "                '}';\n",
    "    }\n",
    "    \n",
    "}\n"
   ]
  },
  {
   "cell_type": "code",
   "execution_count": null,
   "id": "2a65dfd9",
   "metadata": {},
   "outputs": [],
   "source": [
    "import org.hibernate.jpa.HibernatePersistenceConfiguration;\n",
    "\n",
    "var config = new HibernatePersistenceConfiguration(\"Jakarta Data Example\")\n",
    ".managedClasses(Book.class)\n",
    ".property(\"hibernate.connection.url\", \"jdbc:h2:mem:test\")\n",
    ".property(\"hibernate.connection.username\", \"sa\")\n",
    ".property(\"hibernate.connection.password\", \"\");\n",
    "\n",
    "try (var sessionFactory = config.createEntityManagerFactory()) {\n",
    "    var schemaManager = sessionFactory.getSchemaManager();\n",
    "    schemaManager.drop(true);\n",
    "    schemaManager.create(true);\n",
    "\n",
    "    sessionFactory.inStatelessSession(session -> {\n",
    "        var book = new Book();\n",
    "        book.title = \"The Hobbit\";\n",
    "        book.author = \"J.R.R. Tolkien\";\n",
    "        IO.println(book);\n",
    "        session.insert(book);\n",
    "\n",
    "        IO.println(\"Book added \" + book);\n",
    "\n",
    "        session.createQuery(\"from java.lang.Object\").list();\n",
    "    });\n",
    "\n",
    "    sessionFactory.inSession(session -> {\n",
    "        session.createQuery(\"from Book\").stream().forEach(IO::println);\n",
    "    });\n",
    "\n",
    "\n",
    "}"
   ]
  },
  {
   "cell_type": "code",
   "execution_count": null,
   "id": "a7db1b7c",
   "metadata": {},
   "outputs": [],
   "source": [
    "%help"
   ]
  }
 ],
 "metadata": {
  "kernelspec": {
   "display_name": "java (JBang-dev/j!)",
   "language": "java",
   "name": "jbang-jbangdev"
  },
  "language_info": {
   "codemirror_mode": "java",
   "file_extension": ".jshell",
   "mimetype": "text/x-java-source",
   "name": "java",
   "pygments_lexer": "java",
   "version": "25+36-LTS"
  }
 },
 "nbformat": 4,
 "nbformat_minor": 5
}
