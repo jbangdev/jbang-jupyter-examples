{
 "cells": [
  {
   "cell_type": "markdown",
   "metadata": {},
   "source": [
    "# JBang Jupyter Kernel Examples\n",
    "\n",
    "JBang kernel supports using jbang for loading dependencies/resources."
   ]
  },
  {
   "cell_type": "code",
   "execution_count": null,
   "metadata": {},
   "outputs": [],
   "source": [
    "%jbang properties@jbangdev"
   ]
  },
  {
   "cell_type": "code",
   "execution_count": null,
   "metadata": {},
   "outputs": [],
   "source": [
    "//DEPS com.github.javafaker:javafaker:1.0.2\n",
    "\n",
    "import com.github.javafaker.Faker;\n",
    "\n",
    "Faker faker = new Faker();\n",
    "\n",
    "faker.name().fullName();\n"
   ]
  },
  {
   "cell_type": "code",
   "execution_count": null,
   "metadata": {},
   "outputs": [],
   "source": [
    "import org.dflib.jjava.jupyter.kernel.display.mime.MIMEType;\n",
    "import java.util.Set;\n",
    "import java.util.HashSet;\n",
    "\n",
    "kernel().getRenderer()\n",
    "    .createRegistration(dev.jbang.jupyter.JBangHelper.JBangInfo.class)\n",
    "    .preferring(MIMEType.TEXT_HTML)\n",
    "    .register((info, ctx) -> {\n",
    "        ctx.renderIfRequested(MIMEType.TEXT_HTML, () -> {\n",
    "            StringBuilder html = new StringBuilder();\n",
    "            \n",
    "            // Create set of new dependencies for quick lookup\n",
    "            Set<String> newDepsSet = new HashSet<>();\n",
    "            if (info.getNewResolvedDependencies() != null) {\n",
    "                newDepsSet.addAll(info.getNewResolvedDependencies());\n",
    "            }\n",
    "            \n",
    "            // Summary section\n",
    "            int totalRequested = (info.getDependencies() != null) ? info.getDependencies().size() : 0;\n",
    "            int totalResolved = (info.getResolvedDependencies() != null) ? info.getResolvedDependencies().size() : 0;\n",
    "            int totalNew = (info.getNewResolvedDependencies() != null) ? info.getNewResolvedDependencies().size() : 0;\n",
    "            \n",
    "            // Styles\n",
    "            html.append(\"<style>\\n\");\n",
    "            html.append(\".jbang-compact { font-family: -apple-system, BlinkMacSystemFont, 'Segoe UI', Roboto, Oxygen, Ubuntu, Cantarell, sans-serif; font-size: 12px; margin: 4px 0; }\\n\");\n",
    "            html.append(\".jbang-inline { display: inline-block; margin: 0; padding: 0; vertical-align: top; }\\n\");\n",
    "            html.append(\".jbang-inline summary { display: inline; cursor: pointer; user-select: none; padding: 2px 6px; border-radius: 3px; transition: background 0.15s; }\\n\");\n",
    "            html.append(\".jbang-inline summary:hover { background: #f1f3f5; }\\n\");\n",
    "            html.append(\".jbang-inline-content { margin-top: 6px; padding: 8px; background: #f8f9fa; border-radius: 4px; border-left: 2px solid #667eea; }\\n\");\n",
    "            html.append(\".jbang-inline-new .jbang-inline-content { border-left-color: #10b981; }\\n\");\n",
    "            html.append(\".jbang-inline-coord .jbang-inline-content { border-left-color: #764ba2; }\\n\");\n",
    "            html.append(\".jbang-list { list-style: none; padding: 0; margin: 0; font-size: 11px; }\\n\");\n",
    "            html.append(\".jbang-list-item { padding: 4px 6px; margin: 2px 0; background: white; border-radius: 2px; border-left: 2px solid #667eea; font-family: 'Monaco', 'Menlo', monospace; color: #2d3748; word-break: break-all; cursor: help; }\\n\");\n",
    "            html.append(\".jbang-list-item:hover { background: #f8f9fa; }\\n\");\n",
    "            html.append(\".jbang-list-item-new { border-left-color: #10b981; }\\n\");\n",
    "            html.append(\".jbang-list-item-old { opacity: 0.4; border-left-color: #adb5bd; }\\n\");\n",
    "            html.append(\".jbang-list-item-old:hover { opacity: 0.6; }\\n\");\n",
    "            html.append(\".jbang-list-item-coord { border-left-color: #764ba2; cursor: default; }\\n\");\n",
    "            html.append(\"</style>\\n\");\n",
    "            \n",
    "            if (totalRequested > 0 || totalResolved > 0) {\n",
    "                html.append(\"<div class='jbang-compact'>\\n\");\n",
    "                html.append(\"  🚀 JBang: \");\n",
    "            \n",
    "                // Requested dependencies - always show, inline expandable if > 0\n",
    "                if (info.getDependencies() != null && !info.getDependencies().isEmpty()) {\n",
    "                    html.append(\"<details class='jbang-inline jbang-inline-coord'><summary title='Requested Maven dependencies (click to expand)'>📦 <strong>\").append(totalRequested).append(\"</strong></summary>\");\n",
    "                    html.append(\"<div class='jbang-inline-content'><ul class='jbang-list'>\");\n",
    "                    for (String dep : info.getDependencies()) {\n",
    "                        html.append(\"<li class='jbang-list-item jbang-list-item-coord'>\").append(dep).append(\"</li>\");\n",
    "                    }\n",
    "                    html.append(\"</ul></div></details>\");\n",
    "                } else {\n",
    "                    html.append(\"<span title='Requested Maven dependencies'>📦 <strong>\").append(totalRequested).append(\"</strong></span>\");\n",
    "                }\n",
    "                \n",
    "                html.append(\" | \");\n",
    "                \n",
    "                // New dependencies - always show, inline expandable if > 0\n",
    "                if (info.getNewResolvedDependencies() != null && !info.getNewResolvedDependencies().isEmpty()) {\n",
    "                    html.append(\"<details class='jbang-inline jbang-inline-new'><summary title='Newly added to classpath (click to expand)'>✨ <strong>\").append(totalNew).append(\"</strong></summary>\");\n",
    "                    html.append(\"<div class='jbang-inline-content'><ul class='jbang-list'>\");\n",
    "                    for (String dep : info.getNewResolvedDependencies()) {\n",
    "                        String fileName = dep.substring(dep.lastIndexOf('/') + 1);\n",
    "                        html.append(\"<li class='jbang-list-item jbang-list-item-new' title='\").append(dep).append(\"'>\").append(fileName).append(\"</li>\");\n",
    "                    }\n",
    "                    html.append(\"</ul></div></details>\");\n",
    "                } else {\n",
    "                    html.append(\"<span title='Newly added to classpath'>✨ <strong>\").append(totalNew).append(\"</strong></span>\");\n",
    "                }\n",
    "                \n",
    "                html.append(\" | \");\n",
    "                \n",
    "                // All resolved dependencies - always show, inline expandable if > 0\n",
    "                if (info.getResolvedDependencies() != null && !info.getResolvedDependencies().isEmpty()) {\n",
    "                    html.append(\"<details class='jbang-inline'><summary title='All resolved JARs (click to expand, grayed = cached)'>📚 <strong>\").append(totalResolved).append(\"</strong></summary>\");\n",
    "                    html.append(\"<div class='jbang-inline-content'><ul class='jbang-list'>\");\n",
    "                    for (String dep : info.getResolvedDependencies()) {\n",
    "                        String fileName = dep.substring(dep.lastIndexOf('/') + 1);\n",
    "                        boolean isNew = newDepsSet.contains(dep);\n",
    "                        String itemClass = isNew ? \"jbang-list-item jbang-list-item-new\" : \"jbang-list-item jbang-list-item-old\";\n",
    "                        html.append(\"<li class='\").append(itemClass).append(\"' title='\").append(dep).append(\"'>\").append(fileName).append(\"</li>\");\n",
    "                    }\n",
    "                    html.append(\"</ul></div></details>\");\n",
    "                } else {\n",
    "                    html.append(\"<span title='All resolved JARs'>📚 <strong>\").append(totalResolved).append(\"</strong></span>\");\n",
    "                }\n",
    "                \n",
    "                html.append(\"</div>\\n\");\n",
    "            } else {\n",
    "                html.append(\"<div class='jbang-compact'>🚀 JBang: <em>No dependencies</em></div>\\n\");\n",
    "            }\n",
    "            \n",
    "            return html.toString();\n",
    "        });\n",
    "    });"
   ]
  },
  {
   "cell_type": "code",
   "execution_count": null,
   "metadata": {},
   "outputs": [],
   "source": [
    "System.getenv();\n"
   ]
  },
  {
   "cell_type": "code",
   "execution_count": null,
   "metadata": {},
   "outputs": [],
   "source": [
    "var id = display(\"Markdown *test* **snippet**:\\n* bullet 1\\n* bullet 2\", \"text/markdown\")"
   ]
  },
  {
   "cell_type": "markdown",
   "metadata": {},
   "source": [
    "## Built-in displays\n",
    "\n",
    "Images gets rendered automatically."
   ]
  },
  {
   "cell_type": "code",
   "execution_count": null,
   "metadata": {},
   "outputs": [],
   "source": [
    "//DEPS org.knowm.xchart:xchart:3.8.8\n",
    "import org.knowm.xchart.*;\n",
    "import java.awt.Color;"
   ]
  },
  {
   "cell_type": "code",
   "execution_count": null,
   "metadata": {},
   "outputs": [],
   "source": [
    "PieChart chart = new PieChartBuilder().width(800).height(600).title(\"Pie!\").build();\n",
    "chart.getStyler().setChartBackgroundColor(Color.WHITE);\n",
    "chart.getStyler().setPlotBackgroundColor(Color.WHITE);\n",
    "chart.getStyler().setAntiAlias(true);\n",
    " \n",
    "// Customize Chart\n",
    "Color[] sliceColors = new Color[] {\n",
    "    new Color(0, 191, 255), // vibrant sky blue\n",
    "    new Color(255, 223, 0),   // bright yellow\n",
    "    new Color(255, 236, 139),  // shaded yellow\n",
    "};\n",
    "chart.getStyler().setSeriesColors(sliceColors);\n",
    " \n",
    "// Series\n",
    "chart.addSeries(\"Sky\", 80);\n",
    "chart.addSeries(\"Sunny side of Pyramid\", 15);\n",
    "chart.addSeries(\"Shady side of Pyramid\", 10);\n",
    "\n",
    "BitmapEncoder.getBufferedImage(chart);"
   ]
  },
  {
   "cell_type": "markdown",
   "metadata": {},
   "source": [
    "# Vega rendering\n",
    "\n",
    "Using smile-plot/vega that can generate Vega-Lite json you can return the json string with the right mime type to have it rendered."
   ]
  },
  {
   "cell_type": "code",
   "execution_count": null,
   "metadata": {},
   "outputs": [],
   "source": [
    "//DEPS com.github.haifengl:smile-plot:4.3.0\n",
    "\n",
    "import java.lang.Math.*;\n",
    "//import smile.*;\n",
    "//import smile.json.*;\n",
    "import smile.plot.vega.*;\n"
   ]
  },
  {
   "cell_type": "code",
   "execution_count": null,
   "metadata": {},
   "outputs": [],
   "source": [
    "var bar = new View(\"Simple Bar Plot\")\n",
    "        .description(\"A simple bar chart with embedded data.\")\n",
    "        .widthStep(30);\n",
    "bar.background(null);\n",
    "bar.data().values(\"\"\"\n",
    "        [\n",
    "          {\"a\": \"A\", \"b\": 28}, {\"a\": \"B\", \"b\": 55}, {\"a\": \"C\", \"b\": 43},\n",
    "          {\"a\": \"D\", \"b\": 91}, {\"a\": \"E\", \"b\": 81}, {\"a\": \"F\", \"b\": 53},\n",
    "          {\"a\": \"G\", \"b\": 19}, {\"a\": \"H\", \"b\": 87}, {\"a\": \"I\", \"b\": 52}\n",
    "        ]\"\"\");\n",
    "\n",
    "bar.mark(\"bar\");\n",
    "Field x = bar.encode(\"x\", \"a\").type(\"ordinal\");\n",
    "x.axis().labelAngle(23);\n",
    "bar.encode(\"y\", \"b\").type(\"quantitative\");\n",
    "display(bar.toPrettyString(), \"application/vnd.vegalite.v5+json\");"
   ]
  }
 ],
 "metadata": {
  "kernelspec": {
   "display_name": "java (Experimental JBang/j!)",
   "language": "java",
   "name": "jbang-jbang"
  },
  "language_info": {
   "codemirror_mode": "java",
   "file_extension": ".jshell",
   "mimetype": "text/x-java-source",
   "name": "java",
   "pygments_lexer": "java",
   "version": "19.0.2+7-FR"
  }
 },
 "nbformat": 4,
 "nbformat_minor": 4
}
