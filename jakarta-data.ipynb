{
 "cells": [
  {
   "cell_type": "markdown",
   "id": "1be69a69",
   "metadata": {},
   "source": [
    "# Jakarta Data Demo\n",
    "\n",
    "Loosly based on https://github.com/gavinking/data-demo"
   ]
  },
  {
   "cell_type": "code",
   "execution_count": null,
   "id": "92fdbd49",
   "metadata": {
    "vscode": {
     "languageId": "java"
    }
   },
   "outputs": [],
   "source": [
    "//DEPS com.h2database:h2:2.3.232\n",
    "//DEPS jakarta.data:jakarta.data-api:1.0.1\n",
    "//DEPS org.hibernate.orm:hibernate-core:7.0.2.Final\n",
    "//DEPS org.hibernate.orm:hibernate-jpamodelgen:7.0.2.Final\n",
    "\n"
   ]
  },
  {
   "cell_type": "code",
   "execution_count": null,
   "id": "2268680a",
   "metadata": {
    "vscode": {
     "languageId": "java"
    }
   },
   "outputs": [],
   "source": [
    "import jakarta.persistence.Entity;\n",
    "import jakarta.persistence.Id;\n",
    "import jakarta.persistence.GeneratedValue;\n",
    "import jakarta.persistence.GenerationType;\n",
    "\n",
    "@Entity\n",
    "class Book {\n",
    "    @Id\n",
    "    @GeneratedValue(strategy = GenerationType.IDENTITY)\n",
    "    private Long id;\n",
    "\n",
    "    private String title;\n",
    "    private String author;\n",
    "}\n"
   ]
  },
  {
   "cell_type": "code",
   "execution_count": null,
   "id": "d84ca23d",
   "metadata": {
    "vscode": {
     "languageId": "java"
    }
   },
   "outputs": [],
   "source": [
    "\n",
    "import jakarta.data.repository.*;\n",
    "\n",
    "@Repository\n",
    "public interface Library {\n",
    "\n",
    "    @Insert\n",
    "    void addBook(Book book);\n",
    "\n",
    "    @Query(\"where title like :title\")\n",
    "    List<Book> findByTitle(String title);\n",
    "    \n",
    "}"
   ]
  },
  {
   "cell_type": "code",
   "execution_count": null,
   "id": "2a65dfd9",
   "metadata": {
    "vscode": {
     "languageId": "java"
    }
   },
   "outputs": [],
   "source": [
    "import org.hibernate.jpa.HibernatePersistenceConfiguration;\n",
    "\n",
    "var config = new HibernatePersistenceConfiguration(\"Jakarta Data Example\")\n",
    ".managedClasses(Book.class)\n",
    ".property(\"hibernate.dialect\", \"org.hibernate.dialect.H2Dialect\")\n",
    ".property(\"hibernate.connection.url\", \"jdbc:h2:mem:test\")\n",
    ".property(\"hibernate.connection.username\", \"sa\")\n",
    ".property(\"hibernate.connection.password\", \"\");\n",
    "\n",
    "try (var sessionFactory = config.createEntityManagerFactory()) {\n",
    "    var schemaManager = sessionFactory.getSchemaManager();\n",
    "    schemaManager.drop(true);\n",
    "    schemaManager.create(true);\n",
    "\n",
    "    sessionFactory.inStatelessSession(session -> {\n",
    "        // repository is usually injected via CDI,\n",
    "        // but here we just instantiate it\n",
    "        final Library library = new Library_(session);\n",
    "\n",
    "        // load a Book\n",
    "        var book = library.book(\"9781932394153\");\n",
    "        out.println(book);\n",
    "    });\n",
    "}\n",
    "\n",
    "\n"
   ]
  }
 ],
 "metadata": {
  "kernelspec": {
   "display_name": "java (Experimental JBang/j!)",
   "language": "java",
   "name": "jbang-jbang"
  },
  "language_info": {
   "codemirror_mode": "java",
   "file_extension": ".jshell",
   "mimetype": "text/x-java-source",
   "name": "Java",
   "pygments_lexer": "java",
   "version": "23.0.2+7"
  }
 },
 "nbformat": 4,
 "nbformat_minor": 5
}
