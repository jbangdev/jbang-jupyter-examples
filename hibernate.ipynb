{
 "cells": [
  {
   "cell_type": "code",
   "execution_count": 32,
   "id": "92fdbd49",
   "metadata": {
    "vscode": {
     "languageId": "java"
    }
   },
   "outputs": [
    {
     "name": "stdout",
     "output_type": "stream",
     "text": [
      "Adding to classpath: [/Users/max/.m2/repository/com/h2database/h2/2.3.232/h2-2.3.232.jar, /Users/max/.m2/repository/org/hibernate/orm/hibernate-core/7.0.2.Final/hibernate-core-7.0.2.Final.jar, /Users/max/.m2/repository/jakarta/persistence/jakarta.persistence-api/3.2.0/jakarta.persistence-api-3.2.0.jar, /Users/max/.m2/repository/jakarta/transaction/jakarta.transaction-api/2.0.1/jakarta.transaction-api-2.0.1.jar, /Users/max/.m2/repository/org/jboss/logging/jboss-logging/3.6.1.Final/jboss-logging-3.6.1.Final.jar, /Users/max/.m2/repository/org/hibernate/models/hibernate-models/1.0.0/hibernate-models-1.0.0.jar, /Users/max/.m2/repository/com/fasterxml/classmate/1.7.0/classmate-1.7.0.jar, /Users/max/.m2/repository/net/bytebuddy/byte-buddy/1.15.11/byte-buddy-1.15.11.jar, /Users/max/.m2/repository/jakarta/xml/bind/jakarta.xml.bind-api/4.0.2/jakarta.xml.bind-api-4.0.2.jar, /Users/max/.m2/repository/jakarta/activation/jakarta.activation-api/2.1.3/jakarta.activation-api-2.1.3.jar, /Users/max/.m2/repository/org/glassfish/jaxb/jaxb-runtime/4.0.5/jaxb-runtime-4.0.5.jar, /Users/max/.m2/repository/org/glassfish/jaxb/jaxb-core/4.0.5/jaxb-core-4.0.5.jar, /Users/max/.m2/repository/org/eclipse/angus/angus-activation/2.0.2/angus-activation-2.0.2.jar, /Users/max/.m2/repository/org/glassfish/jaxb/txw2/4.0.5/txw2-4.0.5.jar, /Users/max/.m2/repository/com/sun/istack/istack-commons-runtime/4.1.2/istack-commons-runtime-4.1.2.jar, /Users/max/.m2/repository/jakarta/inject/jakarta.inject-api/2.0.1/jakarta.inject-api-2.0.1.jar, /Users/max/.m2/repository/org/antlr/antlr4-runtime/4.13.2/antlr4-runtime-4.13.2.jar]\n"
     ]
    }
   ],
   "source": [
    "//DEPS com.h2database:h2:2.3.232\n",
    "//DEPS org.hibernate.orm:hibernate-core:7.0.2.Final"
   ]
  },
  {
   "cell_type": "markdown",
   "id": "5cce293e",
   "metadata": {},
   "source": []
  },
  {
   "cell_type": "code",
   "execution_count": 33,
   "id": "2268680a",
   "metadata": {
    "vscode": {
     "languageId": "java"
    }
   },
   "outputs": [],
   "source": [
    "import jakarta.persistence.Entity;\n",
    "import jakarta.persistence.Id;\n",
    "import jakarta.persistence.Table;\n",
    "import jakarta.persistence.GeneratedValue;\n",
    "import jakarta.persistence.GenerationType;\n",
    "\n",
    "@Entity(name = \"Book\")\n",
    "@Table(name = \"books\")\n",
    "class Book {\n",
    "    @Id\n",
    "    @GeneratedValue(strategy = GenerationType.IDENTITY)\n",
    "    public Long id;\n",
    "\n",
    "    public String title;\n",
    "    public String author;\n",
    "\n",
    "    @Override\n",
    "    public String toString() {\n",
    "        return \"Book{\" +\n",
    "                \"id=\" + id +\n",
    "                \", title='\" + title + '\\'' +\n",
    "                \", author='\" + author + '\\'' +\n",
    "                '}';\n",
    "    }\n",
    "    \n",
    "}\n"
   ]
  },
  {
   "cell_type": "code",
   "execution_count": 39,
   "id": "2a65dfd9",
   "metadata": {
    "vscode": {
     "languageId": "java"
    }
   },
   "outputs": [
    {
     "name": "stdout",
     "output_type": "stream",
     "text": [
      "Book{id=null, title='The Hobbit', author='J.R.R. Tolkien'}\n",
      "Book added Book{id=1, title='The Hobbit', author='J.R.R. Tolkien'}\n",
      "Book{id=1, title='The Hobbit', author='J.R.R. Tolkien'}\n"
     ]
    }
   ],
   "source": [
    "import org.hibernate.jpa.HibernatePersistenceConfiguration;\n",
    "\n",
    "var config = new HibernatePersistenceConfiguration(\"Jakarta Data Example\")\n",
    ".managedClasses(Book.class)\n",
    ".property(\"hibernate.dialect\", \"org.hibernate.dialect.H2Dialect\")\n",
    ".property(\"hibernate.connection.url\", \"jdbc:h2:mem:test\")\n",
    ".property(\"hibernate.connection.username\", \"sa\")\n",
    ".property(\"hibernate.connection.password\", \"\");\n",
    "\n",
    "try (var sessionFactory = config.createEntityManagerFactory()) {\n",
    "    var schemaManager = sessionFactory.getSchemaManager();\n",
    "    schemaManager.drop(true);\n",
    "    schemaManager.create(true);\n",
    "\n",
    "    sessionFactory.inStatelessSession(session -> {\n",
    "        var book = new Book();\n",
    "        book.title = \"The Hobbit\";\n",
    "        book.author = \"J.R.R. Tolkien\";\n",
    "        IO.println(book);\n",
    "        session.insert(book);\n",
    "\n",
    "        IO.println(\"Book added \" + book);\n",
    "\n",
    "        session.createQuery(\"from java.lang.Object\").list();\n",
    "    });\n",
    "\n",
    "    sessionFactory.inSession(session -> {\n",
    "        session.createQuery(\"from Book\").stream().forEach(IO::println);\n",
    "    });\n",
    "\n",
    "\n",
    "}"
   ]
  },
  {
   "cell_type": "code",
   "execution_count": 35,
   "id": "a7db1b7c",
   "metadata": {
    "vscode": {
     "languageId": "java"
    }
   },
   "outputs": [
    {
     "data": {
      "text/plain": [
       "Welcome to the JBang Jupyter kernel.\n",
       "\n",
       "This is still a work in progress. Please provide feedback at\n",
       "https://github.com/jbangdev/jbang-jupyter\n",
       "\n",
       "Available magics:\n",
       "%jbang <scriptRef> - Load a JBang script\n",
       "%help - Show this help\n",
       "\n",
       "JBang executable found at /Users/max/.jbang/bin/jbang\n",
       "Java version: 25\n",
       "Java vendor: Eclipse Adoptium\n",
       "Java vendor URL: https://adoptium.net/\n",
       "Java home: /Users/max/.jbang/cache/jdks/25\n",
       "Java class path: /Users/max/.m2/repository/dev/jbang/jbang-jupyter/0.1.0-SNAPSHOT/jbang-jupyter-0.1.0-SNAPSHOT.jar:/Users/max/.m2/repository/dev/jbang/jbang-jupyter/0.1.0-SNAPSHOT/jbang-jupyter-0.1.0-SNAPSHOT.jar:/Users/max/.m2/repository/com/google/code/gson/gson/2.11.0/gson-2.11.0.jar:/Users/max/.m2/repository/com/google/errorprone/error_prone_annotations/2.27.0/error_prone_annotations-2.27.0.jar:/Users/max/.m2/repository/org/dflib/jjava/jjava-kernel/1.0-SNAPSHOT/jjava-kernel-1.0-SNAPSHOT.jar:/Users/max/.m2/repository/org/dflib/jjava/jjava-jupyter/1.0-SNAPSHOT/jjava-jupyter-1.0-SNAPSHOT.jar:/Users/max/.m2/repository/org/zeromq/jeromq/0.6.0/jeromq-0.6.0.jar:/Users/max/.m2/repository/eu/neilalexander/jnacl/1.0.0/jnacl-1.0.0.jar\n",
       "/Users/max/.m2/repository/com/h2database/h2/2.3.232/h2-2.3.232.jar\n",
       "/Users/max/.m2/repository/org/hibernate/orm/hibernate-core/7.0.2.Final/hibernate-core-7.0.2.Final.jar\n",
       "/Users/max/.m2/repository/jakarta/persistence/jakarta.persistence-api/3.2.0/jakarta.persistence-api-3.2.0.jar\n",
       "/Users/max/.m2/repository/jakarta/transaction/jakarta.transaction-api/2.0.1/jakarta.transaction-api-2.0.1.jar\n",
       "/Users/max/.m2/repository/org/jboss/logging/jboss-logging/3.6.1.Final/jboss-logging-3.6.1.Final.jar\n",
       "/Users/max/.m2/repository/org/hibernate/models/hibernate-models/1.0.0/hibernate-models-1.0.0.jar\n",
       "/Users/max/.m2/repository/com/fasterxml/classmate/1.7.0/classmate-1.7.0.jar\n",
       "/Users/max/.m2/repository/net/bytebuddy/byte-buddy/1.15.11/byte-buddy-1.15.11.jar\n",
       "/Users/max/.m2/repository/jakarta/xml/bind/jakarta.xml.bind-api/4.0.2/jakarta.xml.bind-api-4.0.2.jar\n",
       "/Users/max/.m2/repository/jakarta/activation/jakarta.activation-api/2.1.3/jakarta.activation-api-2.1.3.jar\n",
       "/Users/max/.m2/repository/org/glassfish/jaxb/jaxb-runtime/4.0.5/jaxb-runtime-4.0.5.jar\n",
       "/Users/max/.m2/repository/org/glassfish/jaxb/jaxb-core/4.0.5/jaxb-core-4.0.5.jar\n",
       "/Users/max/.m2/repository/org/eclipse/angus/angus-activation/2.0.2/angus-activation-2.0.2.jar\n",
       "/Users/max/.m2/repository/org/glassfish/jaxb/txw2/4.0.5/txw2-4.0.5.jar\n",
       "/Users/max/.m2/repository/com/sun/istack/istack-commons-runtime/4.1.2/istack-commons-runtime-4.1.2.jar\n",
       "/Users/max/.m2/repository/jakarta/inject/jakarta.inject-api/2.0.1/jakarta.inject-api-2.0.1.jar\n",
       "/Users/max/.m2/repository/org/antlr/antlr4-runtime/4.13.2/antlr4-runtime-4.13.2.jar\n",
       "/Users/max/.m2/repository/com/h2database/h2/2.3.232/h2-2.3.232.jar\n",
       "/Users/max/.m2/repository/org/hibernate/orm/hibernate-core/7.0.2.Final/hibernate-core-7.0.2.Final.jar\n",
       "/Users/max/.m2/repository/jakarta/persistence/jakarta.persistence-api/3.2.0/jakarta.persistence-api-3.2.0.jar\n",
       "/Users/max/.m2/repository/jakarta/transaction/jakarta.transaction-api/2.0.1/jakarta.transaction-api-2.0.1.jar\n",
       "/Users/max/.m2/repository/org/jboss/logging/jboss-logging/3.6.1.Final/jboss-logging-3.6.1.Final.jar\n",
       "/Users/max/.m2/repository/org/hibernate/models/hibernate-models/1.0.0/hibernate-models-1.0.0.jar\n",
       "/Users/max/.m2/repository/com/fasterxml/classmate/1.7.0/classmate-1.7.0.jar\n",
       "/Users/max/.m2/repository/net/bytebuddy/byte-buddy/1.15.11/byte-buddy-1.15.11.jar\n",
       "/Users/max/.m2/repository/jakarta/xml/bind/jakarta.xml.bind-api/4.0.2/jakarta.xml.bind-api-4.0.2.jar\n",
       "/Users/max/.m2/repository/jakarta/activation/jakarta.activation-api/2.1.3/jakarta.activation-api-2.1.3.jar\n",
       "/Users/max/.m2/repository/org/glassfish/jaxb/jaxb-runtime/4.0.5/jaxb-runtime-4.0.5.jar\n",
       "/Users/max/.m2/repository/org/glassfish/jaxb/jaxb-core/4.0.5/jaxb-core-4.0.5.jar\n",
       "/Users/max/.m2/repository/org/eclipse/angus/angus-activation/2.0.2/angus-activation-2.0.2.jar\n",
       "/Users/max/.m2/repository/org/glassfish/jaxb/txw2/4.0.5/txw2-4.0.5.jar\n",
       "/Users/max/.m2/repository/com/sun/istack/istack-commons-runtime/4.1.2/istack-commons-runtime-4.1.2.jar\n",
       "/Users/max/.m2/repository/jakarta/inject/jakarta.inject-api/2.0.1/jakarta.inject-api-2.0.1.jar\n",
       "/Users/max/.m2/repository/org/antlr/antlr4-runtime/4.13.2/antlr4-runtime-4.13.2.jar\n",
       "/Users/max/.m2/repository/com/h2database/h2/2.3.232/h2-2.3.232.jar\n",
       "/Users/max/.m2/repository/org/hibernate/orm/hibernate-core/7.0.2.Final/hibernate-core-7.0.2.Final.jar\n",
       "/Users/max/.m2/repository/jakarta/persistence/jakarta.persistence-api/3.2.0/jakarta.persistence-api-3.2.0.jar\n",
       "/Users/max/.m2/repository/jakarta/transaction/jakarta.transaction-api/2.0.1/jakarta.transaction-api-2.0.1.jar\n",
       "/Users/max/.m2/repository/org/jboss/logging/jboss-logging/3.6.1.Final/jboss-logging-3.6.1.Final.jar\n",
       "/Users/max/.m2/repository/org/hibernate/models/hibernate-models/1.0.0/hibernate-models-1.0.0.jar\n",
       "/Users/max/.m2/repository/com/fasterxml/classmate/1.7.0/classmate-1.7.0.jar\n",
       "/Users/max/.m2/repository/net/bytebuddy/byte-buddy/1.15.11/byte-buddy-1.15.11.jar\n",
       "/Users/max/.m2/repository/jakarta/xml/bind/jakarta.xml.bind-api/4.0.2/jakarta.xml.bind-api-4.0.2.jar\n",
       "/Users/max/.m2/repository/jakarta/activation/jakarta.activation-api/2.1.3/jakarta.activation-api-2.1.3.jar\n",
       "/Users/max/.m2/repository/org/glassfish/jaxb/jaxb-runtime/4.0.5/jaxb-runtime-4.0.5.jar\n",
       "/Users/max/.m2/repository/org/glassfish/jaxb/jaxb-core/4.0.5/jaxb-core-4.0.5.jar\n",
       "/Users/max/.m2/repository/org/eclipse/angus/angus-activation/2.0.2/angus-activation-2.0.2.jar\n",
       "/Users/max/.m2/repository/org/glassfish/jaxb/txw2/4.0.5/txw2-4.0.5.jar\n",
       "/Users/max/.m2/repository/com/sun/istack/istack-commons-runtime/4.1.2/istack-commons-runtime-4.1.2.jar\n",
       "/Users/max/.m2/repository/jakarta/inject/jakarta.inject-api/2.0.1/jakarta.inject-api-2.0.1.jar\n",
       "/Users/max/.m2/repository/org/antlr/antlr4-runtime/4.13.2/antlr4-runtime-4.13.2.jar\n",
       "Java library path: /Users/max/Library/Java/Extensions:/Library/Java/Extensions:/Network/Library/Java/Extensions:/System/Library/Java/Extensions:/usr/lib/java:."
      ]
     },
     "metadata": {},
     "output_type": "display_data"
    }
   ],
   "source": [
    "%help"
   ]
  }
 ],
 "metadata": {
  "kernelspec": {
   "display_name": "java (Experimental JBang/j!)",
   "language": "java",
   "name": "jbang-jbang"
  },
  "language_info": {
   "codemirror_mode": "java",
   "file_extension": ".jshell",
   "mimetype": "text/x-java-source",
   "name": "Java",
   "pygments_lexer": "java",
   "version": "25+36-LTS"
  }
 },
 "nbformat": 4,
 "nbformat_minor": 5
}
